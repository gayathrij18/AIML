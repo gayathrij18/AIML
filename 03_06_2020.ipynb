{
  "nbformat": 4,
  "nbformat_minor": 0,
  "metadata": {
    "kernelspec": {
      "display_name": "Python 3",
      "language": "python",
      "name": "python3"
    },
    "language_info": {
      "codemirror_mode": {
        "name": "ipython",
        "version": 3
      },
      "file_extension": ".py",
      "mimetype": "text/x-python",
      "name": "python",
      "nbconvert_exporter": "python",
      "pygments_lexer": "ipython3",
      "version": "3.7.6"
    },
    "colab": {
      "name": "03-06-2020",
      "provenance": [],
      "collapsed_sections": [
        "lJgPIn_eoSdX",
        "Uee0qKZboSde",
        "qy7e5Q5DoSd2",
        "0v2ZfoQUoSeB"
      ]
    }
  },
  "cells": [
    {
      "cell_type": "markdown",
      "metadata": {
        "id": "m0D3u7XVoScV",
        "colab_type": "text"
      },
      "source": [
        "### Module:\n",
        "1. pre-defined modules\n",
        "2. user-defined modules"
      ]
    },
    {
      "cell_type": "markdown",
      "metadata": {
        "id": "Jk37O_zeoScW",
        "colab_type": "text"
      },
      "source": [
        "Modules:\n",
        "Different ways of importing Predefined Modules:"
      ]
    },
    {
      "cell_type": "code",
      "metadata": {
        "id": "LWtzgGHdoScX",
        "colab_type": "code",
        "colab": {},
        "outputId": "825bf020-e319-4c1a-d0d1-cb4d8e0ae85f"
      },
      "source": [
        "import string\n",
        "string.digits"
      ],
      "execution_count": 0,
      "outputs": [
        {
          "output_type": "execute_result",
          "data": {
            "text/plain": [
              "'0123456789'"
            ]
          },
          "metadata": {
            "tags": []
          },
          "execution_count": 52
        }
      ]
    },
    {
      "cell_type": "code",
      "metadata": {
        "id": "RnO07j0ioScc",
        "colab_type": "code",
        "colab": {},
        "outputId": "a15db079-ab9c-4c92-b57a-07ce7b37dd83"
      },
      "source": [
        "import string as s \n",
        "s.digits"
      ],
      "execution_count": 0,
      "outputs": [
        {
          "output_type": "execute_result",
          "data": {
            "text/plain": [
              "'0123456789'"
            ]
          },
          "metadata": {
            "tags": []
          },
          "execution_count": 53
        }
      ]
    },
    {
      "cell_type": "code",
      "metadata": {
        "id": "6MaXBNkKoScf",
        "colab_type": "code",
        "colab": {},
        "outputId": "1faf8665-4ffb-46e1-c23b-a8aaaf1d0f05"
      },
      "source": [
        "from string import digits\n",
        "digits"
      ],
      "execution_count": 0,
      "outputs": [
        {
          "output_type": "execute_result",
          "data": {
            "text/plain": [
              "'0123456789'"
            ]
          },
          "metadata": {
            "tags": []
          },
          "execution_count": 54
        }
      ]
    },
    {
      "cell_type": "code",
      "metadata": {
        "id": "KuFFGSYnoScj",
        "colab_type": "code",
        "colab": {},
        "outputId": "a7e25dcb-3ea6-40fc-fe51-85901a07aa01"
      },
      "source": [
        "from string import digits,punctuation\n",
        "digits = 10\n",
        "print(digits)\n",
        "print(punctuation)"
      ],
      "execution_count": 0,
      "outputs": [
        {
          "output_type": "stream",
          "text": [
            "10\n",
            "!\"#$%&'()*+,-./:;<=>?@[\\]^_`{|}~\n"
          ],
          "name": "stdout"
        }
      ]
    },
    {
      "cell_type": "code",
      "metadata": {
        "id": "KY0A0MRYoScm",
        "colab_type": "code",
        "colab": {},
        "outputId": "3b4553ae-bcbf-43b5-bc81-25cffd77d7ba"
      },
      "source": [
        "from string import *\n",
        "print(digits)\n",
        "print(punctuation)"
      ],
      "execution_count": 0,
      "outputs": [
        {
          "output_type": "stream",
          "text": [
            "0123456789\n",
            "!\"#$%&'()*+,-./:;<=>?@[\\]^_`{|}~\n"
          ],
          "name": "stdout"
        }
      ]
    },
    {
      "cell_type": "code",
      "metadata": {
        "id": "Z3Ao2M1_oScq",
        "colab_type": "code",
        "colab": {},
        "outputId": "b35c983a-903f-47c0-800e-2f2b99e0768b"
      },
      "source": [
        "list1 = [1,2,3,4,5]\n",
        "s = 0 #integer\n",
        "for i in list1:\n",
        "    s += i\n",
        "print(s)\n",
        "#print(s(list1))"
      ],
      "execution_count": 0,
      "outputs": [
        {
          "output_type": "stream",
          "text": [
            "15\n"
          ],
          "name": "stdout"
        }
      ]
    },
    {
      "cell_type": "markdown",
      "metadata": {
        "id": "cuMMpXJdoSct",
        "colab_type": "text"
      },
      "source": [
        "### User-defined Modules:\n"
      ]
    },
    {
      "cell_type": "code",
      "metadata": {
        "id": "XNcHAM9moScu",
        "colab_type": "code",
        "colab": {},
        "outputId": "a97bb7ea-f86e-4d6a-939c-3b3ac9217295"
      },
      "source": [
        "import operations as o\n",
        "o.wish(\"shresta\")"
      ],
      "execution_count": 0,
      "outputs": [
        {
          "output_type": "stream",
          "text": [
            "Good Afternoon shresta\n"
          ],
          "name": "stdout"
        }
      ]
    },
    {
      "cell_type": "code",
      "metadata": {
        "id": "umSk0oXfoScy",
        "colab_type": "code",
        "colab": {},
        "outputId": "1a2e531a-3875-48ad-a614-4c5b74578f44"
      },
      "source": [
        "o.result"
      ],
      "execution_count": 0,
      "outputs": [
        {
          "output_type": "execute_result",
          "data": {
            "text/plain": [
              "'True'"
            ]
          },
          "metadata": {
            "tags": []
          },
          "execution_count": 59
        }
      ]
    },
    {
      "cell_type": "code",
      "metadata": {
        "id": "ujMFfwROoSc1",
        "colab_type": "code",
        "colab": {},
        "outputId": "6f2f43d6-9951-4e9e-e521-972384f49914"
      },
      "source": [
        "help(\"operations\")"
      ],
      "execution_count": 0,
      "outputs": [
        {
          "output_type": "stream",
          "text": [
            "Help on module operations:\n",
            "\n",
            "NAME\n",
            "    operations\n",
            "\n",
            "FUNCTIONS\n",
            "    add(x, y)\n",
            "    \n",
            "    wish(name)\n",
            "\n",
            "DATA\n",
            "    result = 'True'\n",
            "\n",
            "FILE\n",
            "    c:\\users\\admin\\desktop\\aiandml\\operations.py\n",
            "\n",
            "\n"
          ],
          "name": "stdout"
        }
      ]
    },
    {
      "cell_type": "markdown",
      "metadata": {
        "id": "Vuqn_DzkoSc4",
        "colab_type": "text"
      },
      "source": [
        "### Built-in Libraries:\n",
        "1. math\n",
        "2. statistics"
      ]
    },
    {
      "cell_type": "code",
      "metadata": {
        "id": "aweNmAfLoSc5",
        "colab_type": "code",
        "colab": {}
      },
      "source": [
        "import math\n"
      ],
      "execution_count": 0,
      "outputs": []
    },
    {
      "cell_type": "code",
      "metadata": {
        "id": "h_9olx4VoSc8",
        "colab_type": "code",
        "colab": {},
        "outputId": "ac22742b-a086-44b9-dbd5-67d774444d61"
      },
      "source": [
        "math.factorial(5)"
      ],
      "execution_count": 0,
      "outputs": [
        {
          "output_type": "execute_result",
          "data": {
            "text/plain": [
              "120"
            ]
          },
          "metadata": {
            "tags": []
          },
          "execution_count": 62
        }
      ]
    },
    {
      "cell_type": "code",
      "metadata": {
        "id": "BpP1AhmwoSc_",
        "colab_type": "code",
        "colab": {},
        "outputId": "b315c3f9-5d3f-45e6-c322-e296b0c83f8b"
      },
      "source": [
        "#using math find out area of the circle\n",
        "def Area(radius):\n",
        "    return math.pi*radius*radius\n",
        "Area(7)"
      ],
      "execution_count": 0,
      "outputs": [
        {
          "output_type": "execute_result",
          "data": {
            "text/plain": [
              "153.93804002589985"
            ]
          },
          "metadata": {
            "tags": []
          },
          "execution_count": 63
        }
      ]
    },
    {
      "cell_type": "code",
      "metadata": {
        "id": "rbGFldXloSdC",
        "colab_type": "code",
        "colab": {}
      },
      "source": [
        "#help(\"math\")"
      ],
      "execution_count": 0,
      "outputs": []
    },
    {
      "cell_type": "code",
      "metadata": {
        "id": "xo9teHX5oSdF",
        "colab_type": "code",
        "colab": {},
        "outputId": "8d2fcd52-5cea-4be9-ae6b-95b6fbf3ab6a"
      },
      "source": [
        "import statistics as st\n",
        "list1 = list(range(1,21))\n",
        "list1"
      ],
      "execution_count": 0,
      "outputs": [
        {
          "output_type": "execute_result",
          "data": {
            "text/plain": [
              "[1, 2, 3, 4, 5, 6, 7, 8, 9, 10, 11, 12, 13, 14, 15, 16, 17, 18, 19, 20]"
            ]
          },
          "metadata": {
            "tags": []
          },
          "execution_count": 2
        }
      ]
    },
    {
      "cell_type": "code",
      "metadata": {
        "id": "Ai0bDTtKoSdI",
        "colab_type": "code",
        "colab": {},
        "outputId": "07add8e1-a021-41f0-a79f-1fc7290866bd"
      },
      "source": [
        "print(st.mean(list1))\n",
        "print(sum(list1)/len(list1))"
      ],
      "execution_count": 0,
      "outputs": [
        {
          "output_type": "stream",
          "text": [
            "10.5\n",
            "10.5\n"
          ],
          "name": "stdout"
        }
      ]
    },
    {
      "cell_type": "code",
      "metadata": {
        "id": "fisHG5proSdL",
        "colab_type": "code",
        "colab": {},
        "outputId": "827e223d-ebd5-4b01-fa23-423ff8c3d0a4"
      },
      "source": [
        "print(st.median(list1))"
      ],
      "execution_count": 0,
      "outputs": [
        {
          "output_type": "stream",
          "text": [
            "10.5\n"
          ],
          "name": "stdout"
        }
      ]
    },
    {
      "cell_type": "code",
      "metadata": {
        "id": "Uf6WJS3soSdO",
        "colab_type": "code",
        "colab": {},
        "outputId": "969691d3-f6d4-427b-f825-cb2d273910ed"
      },
      "source": [
        "list2 = [1,2,3,4,3,3,4,2,2,2]\n",
        "print(st.mode(list2))"
      ],
      "execution_count": 0,
      "outputs": [
        {
          "output_type": "stream",
          "text": [
            "2\n"
          ],
          "name": "stdout"
        }
      ]
    },
    {
      "cell_type": "code",
      "metadata": {
        "id": "ePX3neZNoSdR",
        "colab_type": "code",
        "colab": {},
        "outputId": "1662de30-9841-49d2-de87-b55d7fcf1e90"
      },
      "source": [
        "st.stdev(list2)"
      ],
      "execution_count": 0,
      "outputs": [
        {
          "output_type": "execute_result",
          "data": {
            "text/plain": [
              "0.9660917830792959"
            ]
          },
          "metadata": {
            "tags": []
          },
          "execution_count": 10
        }
      ]
    },
    {
      "cell_type": "code",
      "metadata": {
        "id": "9MJI2Z3ooSdU",
        "colab_type": "code",
        "colab": {},
        "outputId": "eed10c12-a1cf-4491-ef1a-3a5af09672b5"
      },
      "source": [
        "st.variance(list2)"
      ],
      "execution_count": 0,
      "outputs": [
        {
          "output_type": "execute_result",
          "data": {
            "text/plain": [
              "0.9333333333333333"
            ]
          },
          "metadata": {
            "tags": []
          },
          "execution_count": 11
        }
      ]
    },
    {
      "cell_type": "markdown",
      "metadata": {
        "id": "lJgPIn_eoSdX",
        "colab_type": "text"
      },
      "source": [
        "#### random:\n",
        "1. randint() --> randint(start,stop),start and stop values are included \n",
        "2. randomrange() --> stop value is excluded\n",
        "3. random() --> 0 - 1\n",
        "4. choice() --> gives you single element\n",
        "5. choices() --> gives you multiple elements\n"
      ]
    },
    {
      "cell_type": "code",
      "metadata": {
        "id": "GqvV2lgIoSdX",
        "colab_type": "code",
        "colab": {},
        "outputId": "b1383d59-0fd9-4024-c792-466d306b16ad"
      },
      "source": [
        "import random\n",
        "print(random.randint(1,10))\n",
        "print(random.randrange(1,10))\n",
        "print(random.random())"
      ],
      "execution_count": 0,
      "outputs": [
        {
          "output_type": "stream",
          "text": [
            "4\n",
            "7\n",
            "0.5675310118004224\n"
          ],
          "name": "stdout"
        }
      ]
    },
    {
      "cell_type": "code",
      "metadata": {
        "id": "Nn2B3ConoSda",
        "colab_type": "code",
        "colab": {},
        "outputId": "d6440968-3d51-4da7-a711-687d9fd11cc0"
      },
      "source": [
        "list1 = [1,2,3,4,5,6,7,8]\n",
        "print(random.choice(list1))\n",
        "print(random.choices(list1,k=3))"
      ],
      "execution_count": 0,
      "outputs": [
        {
          "output_type": "stream",
          "text": [
            "1\n",
            "[1, 8, 1]\n"
          ],
          "name": "stdout"
        }
      ]
    },
    {
      "cell_type": "markdown",
      "metadata": {
        "id": "Uee0qKZboSde",
        "colab_type": "text"
      },
      "source": [
        "### os:\n",
        "1. rename() --> renaming\n",
        "2. remove() -->removing\n",
        "3. mkdir() -->  Make a directory\n",
        "4. getcwd() --> get current working directory\n",
        "5. listdir() --> gives you list of things\n",
        "6. chdir() --> change directory\n",
        "7. rmdir() --> Removing the directory\n"
      ]
    },
    {
      "cell_type": "code",
      "metadata": {
        "id": "hF2Ti5PzoSde",
        "colab_type": "code",
        "colab": {}
      },
      "source": [
        "import os\n",
        "os.mkdir(\"sample2\")"
      ],
      "execution_count": 0,
      "outputs": []
    },
    {
      "cell_type": "code",
      "metadata": {
        "id": "y3rA_RQsoSdh",
        "colab_type": "code",
        "colab": {},
        "outputId": "03c3a04b-b1f6-4bb0-ec1f-9543a32666b7"
      },
      "source": [
        "os.getcwd()"
      ],
      "execution_count": 0,
      "outputs": [
        {
          "output_type": "execute_result",
          "data": {
            "text/plain": [
              "'C:\\\\Users\\\\Admin\\\\Desktop\\\\AIandML'"
            ]
          },
          "metadata": {
            "tags": []
          },
          "execution_count": 21
        }
      ]
    },
    {
      "cell_type": "code",
      "metadata": {
        "id": "NL2ZbYCdoSdm",
        "colab_type": "code",
        "colab": {},
        "outputId": "be680538-0931-415c-a87b-d0db5cec4c0e"
      },
      "source": [
        "os.listdir()"
      ],
      "execution_count": 0,
      "outputs": [
        {
          "output_type": "execute_result",
          "data": {
            "text/plain": [
              "['.git',\n",
              " '.ipynb_checkpoints',\n",
              " '02-06-2020.ipynb',\n",
              " '03-06-2020.ipynb',\n",
              " '1-06-2020.ipynb',\n",
              " '27-05-2020.ipynb',\n",
              " '28-05-2020.ipynb',\n",
              " '29-05-2020.ipynb',\n",
              " '30-05-2020.ipynb',\n",
              " 'AIandML',\n",
              " 'AIML',\n",
              " 'Assignment-1',\n",
              " 'Assignment-2',\n",
              " 'Assignment-3',\n",
              " 'Assignment-4',\n",
              " 'Assignment-5',\n",
              " 'Assignment-6',\n",
              " 'Assignment2',\n",
              " 'Data.txt',\n",
              " 'gitcommands.txt',\n",
              " 'operations.py',\n",
              " 'python',\n",
              " 'sample1.txt',\n",
              " 'sample2',\n",
              " '__pycache__']"
            ]
          },
          "metadata": {
            "tags": []
          },
          "execution_count": 22
        }
      ]
    },
    {
      "cell_type": "code",
      "metadata": {
        "id": "J2Mrwas6oSdp",
        "colab_type": "code",
        "colab": {}
      },
      "source": [
        "os.chdir('C:\\\\Users\\\\Admin\\\\Desktop\\\\AIandML\\\\python')"
      ],
      "execution_count": 0,
      "outputs": []
    },
    {
      "cell_type": "code",
      "metadata": {
        "id": "YpdoUVw5oSdt",
        "colab_type": "code",
        "colab": {},
        "outputId": "b3e8e31b-021b-4204-c2f4-c7f632790b48"
      },
      "source": [
        "os.getcwd()\n"
      ],
      "execution_count": 0,
      "outputs": [
        {
          "output_type": "execute_result",
          "data": {
            "text/plain": [
              "'C:\\\\Users\\\\Admin\\\\Desktop\\\\AIandML\\\\python'"
            ]
          },
          "metadata": {
            "tags": []
          },
          "execution_count": 24
        }
      ]
    },
    {
      "cell_type": "code",
      "metadata": {
        "id": "wUZ6TgiVoSdw",
        "colab_type": "code",
        "colab": {}
      },
      "source": [
        "os.chdir('C:\\\\Users\\\\Admin\\\\Desktop\\\\AIandML\\\\python')"
      ],
      "execution_count": 0,
      "outputs": []
    },
    {
      "cell_type": "code",
      "metadata": {
        "id": "7GTg05u5oSdz",
        "colab_type": "code",
        "colab": {}
      },
      "source": [
        "os.rmdir(\"sample\")"
      ],
      "execution_count": 0,
      "outputs": []
    },
    {
      "cell_type": "markdown",
      "metadata": {
        "id": "qy7e5Q5DoSd2",
        "colab_type": "text"
      },
      "source": [
        "### Numpy Packages:\n",
        "1. operations related numerics\n",
        "2. computational operation"
      ]
    },
    {
      "cell_type": "code",
      "metadata": {
        "id": "CPjycSsnoSd3",
        "colab_type": "code",
        "colab": {},
        "outputId": "c34ea1b3-47c2-4deb-fb5e-d35d0357361f"
      },
      "source": [
        "import numpy as np\n",
        "list1 = [1,2,3,4,5]\n",
        "arr1 = np.array(list1)\n",
        "type(arr1)\n"
      ],
      "execution_count": 0,
      "outputs": [
        {
          "output_type": "execute_result",
          "data": {
            "text/plain": [
              "numpy.ndarray"
            ]
          },
          "metadata": {
            "tags": []
          },
          "execution_count": 6
        }
      ]
    },
    {
      "cell_type": "code",
      "metadata": {
        "id": "-xlC4oEPoSd7",
        "colab_type": "code",
        "colab": {},
        "outputId": "ad62c8b5-3877-4228-b10d-2cdb79507633"
      },
      "source": [
        "list2 = range(1,11)\n",
        "list2"
      ],
      "execution_count": 0,
      "outputs": [
        {
          "output_type": "execute_result",
          "data": {
            "text/plain": [
              "range(1, 11)"
            ]
          },
          "metadata": {
            "tags": []
          },
          "execution_count": 3
        }
      ]
    },
    {
      "cell_type": "code",
      "metadata": {
        "id": "yOBmokfGoSd-",
        "colab_type": "code",
        "colab": {},
        "outputId": "0825d785-e795-47c3-d74e-e05ff321315c"
      },
      "source": [
        "arr2 = np.arange(1,11)\n",
        "arr2"
      ],
      "execution_count": 0,
      "outputs": [
        {
          "output_type": "execute_result",
          "data": {
            "text/plain": [
              "array([ 1,  2,  3,  4,  5,  6,  7,  8,  9, 10])"
            ]
          },
          "metadata": {
            "tags": []
          },
          "execution_count": 4
        }
      ]
    },
    {
      "cell_type": "markdown",
      "metadata": {
        "id": "0v2ZfoQUoSeB",
        "colab_type": "text"
      },
      "source": [
        "###  Difference Between Python list and Numpy Array\n",
        "1. less memory\n",
        "2. fast\n",
        "3. Covenient"
      ]
    },
    {
      "cell_type": "code",
      "metadata": {
        "id": "Dz89iJmGoSeC",
        "colab_type": "code",
        "colab": {},
        "outputId": "38a7ce12-81dd-4c13-cb42-4aa9b11e7850"
      },
      "source": [
        "#less memory \n",
        "import sys\n",
        "size = 1000\n",
        "list1 = list(range(size))\n",
        "print(sys.getsizeof(list1[0]) * size)\n",
        "arr1 = np.arange(1000)\n",
        "print(arr1.itemsize * arr1.size)"
      ],
      "execution_count": 0,
      "outputs": [
        {
          "output_type": "stream",
          "text": [
            "24000\n",
            "4000\n"
          ],
          "name": "stdout"
        }
      ]
    },
    {
      "cell_type": "code",
      "metadata": {
        "id": "6EhQzPD9oSeE",
        "colab_type": "code",
        "colab": {},
        "outputId": "7ba4cb04-10c8-4cd3-f67d-83eaa1bc3b9c"
      },
      "source": [
        "import time\n",
        "size = 20000\n",
        "list1 = list(range(size))\n",
        "list2 = list(range(size))\n",
        "start = time.time()\n",
        "result = [x+y for x,y in zip(list1,list2)]\n",
        "print(\"Time took for python list: \",time.time()-start)\n",
        "\n",
        "arr1 = np.arange(size)\n",
        "arr2 = np.arange(size)\n",
        "start = time.time()\n",
        "result = arr1 + arr2\n",
        "print(\"Time took for Numpy array: \",time.time()-start)\n"
      ],
      "execution_count": 0,
      "outputs": [
        {
          "output_type": "stream",
          "text": [
            "Time took for python list:  0.003999948501586914\n",
            "Time took for Numpy array:  0.0010001659393310547\n"
          ],
          "name": "stdout"
        }
      ]
    },
    {
      "cell_type": "code",
      "metadata": {
        "id": "DKJ_GubIoSeH",
        "colab_type": "code",
        "colab": {},
        "outputId": "8253e5d1-bf1e-4a2d-dbcb-7ebd0b85857c"
      },
      "source": [
        "l1 = [1,2,3,4,5]\n",
        "l2 = [10,11,12,23,14]\n",
        "result = [x+y for x,y in zip(l1,l2)]\n",
        "result\n"
      ],
      "execution_count": 0,
      "outputs": [
        {
          "output_type": "execute_result",
          "data": {
            "text/plain": [
              "[11, 13, 15, 27, 19]"
            ]
          },
          "metadata": {
            "tags": []
          },
          "execution_count": 12
        }
      ]
    },
    {
      "cell_type": "code",
      "metadata": {
        "id": "bdDUY3BtoSeJ",
        "colab_type": "code",
        "colab": {},
        "outputId": "2a640e9d-d6a7-4c0b-cd9e-62b94390e9ac"
      },
      "source": [
        "a1 = np.array(l1)\n",
        "a2 = np.array(l2)\n",
        "a1 + a2 "
      ],
      "execution_count": 0,
      "outputs": [
        {
          "output_type": "execute_result",
          "data": {
            "text/plain": [
              "array([11, 13, 15, 27, 19])"
            ]
          },
          "metadata": {
            "tags": []
          },
          "execution_count": 14
        }
      ]
    },
    {
      "cell_type": "code",
      "metadata": {
        "id": "S3R3IvJeoSeM",
        "colab_type": "code",
        "colab": {}
      },
      "source": [
        ""
      ],
      "execution_count": 0,
      "outputs": []
    }
  ]
}