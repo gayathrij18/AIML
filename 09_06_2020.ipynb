{
  "nbformat": 4,
  "nbformat_minor": 0,
  "metadata": {
    "kernelspec": {
      "display_name": "Python 3",
      "language": "python",
      "name": "python3"
    },
    "language_info": {
      "codemirror_mode": {
        "name": "ipython",
        "version": 3
      },
      "file_extension": ".py",
      "mimetype": "text/x-python",
      "name": "python",
      "nbconvert_exporter": "python",
      "pygments_lexer": "ipython3",
      "version": "3.7.6"
    },
    "colab": {
      "name": "09-06-2020",
      "provenance": []
    }
  },
  "cells": [
    {
      "cell_type": "code",
      "metadata": {
        "id": "42OlmqrWt41A",
        "colab_type": "code",
        "colab": {},
        "outputId": "87f3ba73-cf18-4211-e39f-bfd544185f6d"
      },
      "source": [
        "import pandas as pd\n",
        "import numpy as np\n",
        "df = pd.DataFrame({\"A\": [\"foo\", \"foo\", \"foo\", \"foo\", \"foo\",\"bar\", \"bar\", \"bar\", \"bar\"],\n",
        "                   \"B\": [\"one\", \"one\", \"one\", \"two\", \"two\",\"one\", \"one\", \"two\", \"two\"],\n",
        "                   \"C\": [\"small\", \"large\", \"large\", \"small\",\"small\", \"large\", \"small\", \"small\",\"large\"],\n",
        "                   \"D\": [1, 2, 2, 3, 3, 4, 5, 6, 7],\n",
        "                   \"E\": [2, 4, 5, 5, 6, 6, 8, 9, 9]})\n",
        "df\n"
      ],
      "execution_count": 0,
      "outputs": [
        {
          "output_type": "execute_result",
          "data": {
            "text/html": [
              "<div>\n",
              "<style scoped>\n",
              "    .dataframe tbody tr th:only-of-type {\n",
              "        vertical-align: middle;\n",
              "    }\n",
              "\n",
              "    .dataframe tbody tr th {\n",
              "        vertical-align: top;\n",
              "    }\n",
              "\n",
              "    .dataframe thead th {\n",
              "        text-align: right;\n",
              "    }\n",
              "</style>\n",
              "<table border=\"1\" class=\"dataframe\">\n",
              "  <thead>\n",
              "    <tr style=\"text-align: right;\">\n",
              "      <th></th>\n",
              "      <th>A</th>\n",
              "      <th>B</th>\n",
              "      <th>C</th>\n",
              "      <th>D</th>\n",
              "      <th>E</th>\n",
              "    </tr>\n",
              "  </thead>\n",
              "  <tbody>\n",
              "    <tr>\n",
              "      <th>0</th>\n",
              "      <td>foo</td>\n",
              "      <td>one</td>\n",
              "      <td>small</td>\n",
              "      <td>1</td>\n",
              "      <td>2</td>\n",
              "    </tr>\n",
              "    <tr>\n",
              "      <th>1</th>\n",
              "      <td>foo</td>\n",
              "      <td>one</td>\n",
              "      <td>large</td>\n",
              "      <td>2</td>\n",
              "      <td>4</td>\n",
              "    </tr>\n",
              "    <tr>\n",
              "      <th>2</th>\n",
              "      <td>foo</td>\n",
              "      <td>one</td>\n",
              "      <td>large</td>\n",
              "      <td>2</td>\n",
              "      <td>5</td>\n",
              "    </tr>\n",
              "    <tr>\n",
              "      <th>3</th>\n",
              "      <td>foo</td>\n",
              "      <td>two</td>\n",
              "      <td>small</td>\n",
              "      <td>3</td>\n",
              "      <td>5</td>\n",
              "    </tr>\n",
              "    <tr>\n",
              "      <th>4</th>\n",
              "      <td>foo</td>\n",
              "      <td>two</td>\n",
              "      <td>small</td>\n",
              "      <td>3</td>\n",
              "      <td>6</td>\n",
              "    </tr>\n",
              "    <tr>\n",
              "      <th>5</th>\n",
              "      <td>bar</td>\n",
              "      <td>one</td>\n",
              "      <td>large</td>\n",
              "      <td>4</td>\n",
              "      <td>6</td>\n",
              "    </tr>\n",
              "    <tr>\n",
              "      <th>6</th>\n",
              "      <td>bar</td>\n",
              "      <td>one</td>\n",
              "      <td>small</td>\n",
              "      <td>5</td>\n",
              "      <td>8</td>\n",
              "    </tr>\n",
              "    <tr>\n",
              "      <th>7</th>\n",
              "      <td>bar</td>\n",
              "      <td>two</td>\n",
              "      <td>small</td>\n",
              "      <td>6</td>\n",
              "      <td>9</td>\n",
              "    </tr>\n",
              "    <tr>\n",
              "      <th>8</th>\n",
              "      <td>bar</td>\n",
              "      <td>two</td>\n",
              "      <td>large</td>\n",
              "      <td>7</td>\n",
              "      <td>9</td>\n",
              "    </tr>\n",
              "  </tbody>\n",
              "</table>\n",
              "</div>"
            ],
            "text/plain": [
              "     A    B      C  D  E\n",
              "0  foo  one  small  1  2\n",
              "1  foo  one  large  2  4\n",
              "2  foo  one  large  2  5\n",
              "3  foo  two  small  3  5\n",
              "4  foo  two  small  3  6\n",
              "5  bar  one  large  4  6\n",
              "6  bar  one  small  5  8\n",
              "7  bar  two  small  6  9\n",
              "8  bar  two  large  7  9"
            ]
          },
          "metadata": {
            "tags": []
          },
          "execution_count": 1
        }
      ]
    },
    {
      "cell_type": "code",
      "metadata": {
        "id": "Z2pKUT39t41L",
        "colab_type": "code",
        "colab": {}
      },
      "source": [
        "df.to_csv(\"newcsv.csv\")"
      ],
      "execution_count": 0,
      "outputs": []
    },
    {
      "cell_type": "code",
      "metadata": {
        "id": "g3rBsGbat41R",
        "colab_type": "code",
        "colab": {}
      },
      "source": [
        "read_excel(),to_excel()"
      ],
      "execution_count": 0,
      "outputs": []
    },
    {
      "cell_type": "code",
      "metadata": {
        "id": "wnA-EtFCt41V",
        "colab_type": "code",
        "colab": {}
      },
      "source": [
        "df =  pd.read_excel(\"Filename\")"
      ],
      "execution_count": 0,
      "outputs": []
    },
    {
      "cell_type": "code",
      "metadata": {
        "id": "lWWoh3pRt41Z",
        "colab_type": "code",
        "colab": {}
      },
      "source": [
        "df.to_excel(\"new file name\")"
      ],
      "execution_count": 0,
      "outputs": []
    },
    {
      "cell_type": "markdown",
      "metadata": {
        "id": "a54-GVzut41c",
        "colab_type": "text"
      },
      "source": [
        "### Matplotlib package: Visualizations\n",
        "1. numpy --> numeric values\n",
        "2. pandas --> tabular  format data"
      ]
    },
    {
      "cell_type": "code",
      "metadata": {
        "collapsed": true,
        "id": "9h_oxcxNt41e",
        "colab_type": "code",
        "colab": {},
        "outputId": "3a7668d4-5810-449e-dcf7-42193d4811c0"
      },
      "source": [
        "df = pd.read_csv(\"diamond.csv\").head(10)\n",
        "df"
      ],
      "execution_count": 0,
      "outputs": [
        {
          "output_type": "execute_result",
          "data": {
            "text/html": [
              "<div>\n",
              "<style scoped>\n",
              "    .dataframe tbody tr th:only-of-type {\n",
              "        vertical-align: middle;\n",
              "    }\n",
              "\n",
              "    .dataframe tbody tr th {\n",
              "        vertical-align: top;\n",
              "    }\n",
              "\n",
              "    .dataframe thead th {\n",
              "        text-align: right;\n",
              "    }\n",
              "</style>\n",
              "<table border=\"1\" class=\"dataframe\">\n",
              "  <thead>\n",
              "    <tr style=\"text-align: right;\">\n",
              "      <th></th>\n",
              "      <th>Unnamed: 0</th>\n",
              "      <th>carat</th>\n",
              "      <th>cut</th>\n",
              "      <th>color</th>\n",
              "      <th>clarity</th>\n",
              "      <th>depth</th>\n",
              "      <th>table</th>\n",
              "      <th>price</th>\n",
              "      <th>x</th>\n",
              "      <th>y</th>\n",
              "      <th>z</th>\n",
              "    </tr>\n",
              "  </thead>\n",
              "  <tbody>\n",
              "    <tr>\n",
              "      <th>0</th>\n",
              "      <td>1</td>\n",
              "      <td>0.23</td>\n",
              "      <td>Ideal</td>\n",
              "      <td>E</td>\n",
              "      <td>SI2</td>\n",
              "      <td>61.5</td>\n",
              "      <td>NaN</td>\n",
              "      <td>326.0</td>\n",
              "      <td>3.95</td>\n",
              "      <td>3.98</td>\n",
              "      <td>2.43</td>\n",
              "    </tr>\n",
              "    <tr>\n",
              "      <th>1</th>\n",
              "      <td>2</td>\n",
              "      <td>0.21</td>\n",
              "      <td>Premium</td>\n",
              "      <td>E</td>\n",
              "      <td>SI1</td>\n",
              "      <td>59.8</td>\n",
              "      <td>61.0</td>\n",
              "      <td>326.0</td>\n",
              "      <td>3.89</td>\n",
              "      <td>NaN</td>\n",
              "      <td>2.31</td>\n",
              "    </tr>\n",
              "    <tr>\n",
              "      <th>2</th>\n",
              "      <td>3</td>\n",
              "      <td>0.23</td>\n",
              "      <td>Good</td>\n",
              "      <td>E</td>\n",
              "      <td>VS1</td>\n",
              "      <td>56.9</td>\n",
              "      <td>65.0</td>\n",
              "      <td>327.0</td>\n",
              "      <td>4.05</td>\n",
              "      <td>4.07</td>\n",
              "      <td>2.31</td>\n",
              "    </tr>\n",
              "    <tr>\n",
              "      <th>3</th>\n",
              "      <td>4</td>\n",
              "      <td>0.29</td>\n",
              "      <td>Premium</td>\n",
              "      <td>I</td>\n",
              "      <td>VS2</td>\n",
              "      <td>62.4</td>\n",
              "      <td>58.0</td>\n",
              "      <td>334.0</td>\n",
              "      <td>NaN</td>\n",
              "      <td>4.23</td>\n",
              "      <td>2.63</td>\n",
              "    </tr>\n",
              "    <tr>\n",
              "      <th>4</th>\n",
              "      <td>5</td>\n",
              "      <td>0.31</td>\n",
              "      <td>Good</td>\n",
              "      <td>J</td>\n",
              "      <td>SI2</td>\n",
              "      <td>63.3</td>\n",
              "      <td>58.0</td>\n",
              "      <td>335.0</td>\n",
              "      <td>4.34</td>\n",
              "      <td>4.35</td>\n",
              "      <td>2.75</td>\n",
              "    </tr>\n",
              "    <tr>\n",
              "      <th>5</th>\n",
              "      <td>6</td>\n",
              "      <td>0.24</td>\n",
              "      <td>Very Good</td>\n",
              "      <td>J</td>\n",
              "      <td>VVS2</td>\n",
              "      <td>62.8</td>\n",
              "      <td>57.0</td>\n",
              "      <td>336.0</td>\n",
              "      <td>3.94</td>\n",
              "      <td>3.96</td>\n",
              "      <td>2.48</td>\n",
              "    </tr>\n",
              "    <tr>\n",
              "      <th>6</th>\n",
              "      <td>7</td>\n",
              "      <td>0.24</td>\n",
              "      <td>Very Good</td>\n",
              "      <td>I</td>\n",
              "      <td>VVS1</td>\n",
              "      <td>62.3</td>\n",
              "      <td>57.0</td>\n",
              "      <td>336.0</td>\n",
              "      <td>3.95</td>\n",
              "      <td>3.98</td>\n",
              "      <td>2.47</td>\n",
              "    </tr>\n",
              "    <tr>\n",
              "      <th>7</th>\n",
              "      <td>8</td>\n",
              "      <td>0.26</td>\n",
              "      <td>Very Good</td>\n",
              "      <td>H</td>\n",
              "      <td>SI1</td>\n",
              "      <td>61.9</td>\n",
              "      <td>55.0</td>\n",
              "      <td>337.0</td>\n",
              "      <td>4.07</td>\n",
              "      <td>4.11</td>\n",
              "      <td>2.53</td>\n",
              "    </tr>\n",
              "    <tr>\n",
              "      <th>8</th>\n",
              "      <td>9</td>\n",
              "      <td>0.22</td>\n",
              "      <td>Fair</td>\n",
              "      <td>E</td>\n",
              "      <td>VS2</td>\n",
              "      <td>65.1</td>\n",
              "      <td>61.0</td>\n",
              "      <td>337.0</td>\n",
              "      <td>3.87</td>\n",
              "      <td>3.78</td>\n",
              "      <td>2.49</td>\n",
              "    </tr>\n",
              "    <tr>\n",
              "      <th>9</th>\n",
              "      <td>10</td>\n",
              "      <td>0.23</td>\n",
              "      <td>Very Good</td>\n",
              "      <td>H</td>\n",
              "      <td>VS1</td>\n",
              "      <td>59.4</td>\n",
              "      <td>61.0</td>\n",
              "      <td>338.0</td>\n",
              "      <td>4.00</td>\n",
              "      <td>4.05</td>\n",
              "      <td>2.39</td>\n",
              "    </tr>\n",
              "  </tbody>\n",
              "</table>\n",
              "</div>"
            ],
            "text/plain": [
              "   Unnamed: 0  carat        cut color clarity  depth  table  price     x  \\\n",
              "0           1   0.23      Ideal     E     SI2   61.5    NaN  326.0  3.95   \n",
              "1           2   0.21    Premium     E     SI1   59.8   61.0  326.0  3.89   \n",
              "2           3   0.23       Good     E     VS1   56.9   65.0  327.0  4.05   \n",
              "3           4   0.29    Premium     I     VS2   62.4   58.0  334.0   NaN   \n",
              "4           5   0.31       Good     J     SI2   63.3   58.0  335.0  4.34   \n",
              "5           6   0.24  Very Good     J    VVS2   62.8   57.0  336.0  3.94   \n",
              "6           7   0.24  Very Good     I    VVS1   62.3   57.0  336.0  3.95   \n",
              "7           8   0.26  Very Good     H     SI1   61.9   55.0  337.0  4.07   \n",
              "8           9   0.22       Fair     E     VS2   65.1   61.0  337.0  3.87   \n",
              "9          10   0.23  Very Good     H     VS1   59.4   61.0  338.0  4.00   \n",
              "\n",
              "      y     z  \n",
              "0  3.98  2.43  \n",
              "1   NaN  2.31  \n",
              "2  4.07  2.31  \n",
              "3  4.23  2.63  \n",
              "4  4.35  2.75  \n",
              "5  3.96  2.48  \n",
              "6  3.98  2.47  \n",
              "7  4.11  2.53  \n",
              "8  3.78  2.49  \n",
              "9  4.05  2.39  "
            ]
          },
          "metadata": {
            "tags": []
          },
          "execution_count": 3
        }
      ]
    },
    {
      "cell_type": "code",
      "metadata": {
        "id": "6xbtYk1Mt41i",
        "colab_type": "code",
        "colab": {}
      },
      "source": [
        "import matplotlib.pyplot as plt\n",
        "%matplotlib inline"
      ],
      "execution_count": 0,
      "outputs": []
    },
    {
      "cell_type": "markdown",
      "metadata": {
        "id": "YPPY_-umt41n",
        "colab_type": "text"
      },
      "source": [
        "### 1. Line plot"
      ]
    },
    {
      "cell_type": "code",
      "metadata": {
        "id": "cHBv8_Iit41n",
        "colab_type": "code",
        "colab": {},
        "outputId": "3199dbf8-2574-4e9a-c882-c7bbbf72d6d3"
      },
      "source": [
        "a = np.arange(1,11)\n",
        "b = np.arange(11,21)\n",
        "plt.xlabel(\"a array values\")\n",
        "plt.ylabel(\"b array values\")\n",
        "plt.title(\"a versus b\")\n",
        "plt.plot(a,b,color=\"green\",linewidth=5)\n",
        "plt.plot(a,b)\n",
        "plt.show()"
      ],
      "execution_count": 0,
      "outputs": [
        {
          "output_type": "display_data",
          "data": {
            "image/png": "[encoded data removed]",
            "text/plain": [
              "<Figure size 432x288 with 1 Axes>"
            ]
          },
          "metadata": {
            "tags": [],
            "needs_background": "light"
          }
        }
      ]
    },
    {
      "cell_type": "code",
      "metadata": {
        "id": "srR0gTFIt41r",
        "colab_type": "code",
        "colab": {},
        "outputId": "f7faf0e8-b352-4408-f9e1-b0ebefe73892"
      },
      "source": [
        "days = list(range(1,8))\n",
        "temp = [34,36,40,41,42,34,44]\n",
        "plt.xlabel(\"days\")\n",
        "plt.ylabel(\"temperature\")\n",
        "plt.title(\"weather report\")\n",
        "plt.xlim([1,7])\n",
        "plt.ylim([32,46])\n",
        "plt.plot(days,temp,color=\"green\",linewidth=3,linestyle=\"-.\")\n",
        "plt.show()"
      ],
      "execution_count": 0,
      "outputs": [
        {
          "output_type": "display_data",
          "data": {
            "image/png": "[encoded data removed]",
            "text/plain": [
              "<Figure size 432x288 with 1 Axes>"
            ]
          },
          "metadata": {
            "tags": [],
            "needs_background": "light"
          }
        }
      ]
    },
    {
      "cell_type": "code",
      "metadata": {
        "id": "VJ5OfEAXt41v",
        "colab_type": "code",
        "colab": {},
        "outputId": "7fd62b5d-3680-4690-a71a-cff8fb0aac2d"
      },
      "source": [
        "x = np.arange(10)#1 to 9\n",
        "#2*x-->0,2,4,..\n",
        "#3*x-->0,3,6,..\n",
        "#4*x-->0,4,8,..\n",
        "plt.xlabel(\"X Axis\")\n",
        "plt.ylabel(\"Y Axis\")\n",
        "plt.plot(x,x,label=\"x values\")\n",
        "plt.plot(x,2*x,label=\"2*x values\")\n",
        "plt.plot(x,3*x,label=\"3*x values\")\n",
        "plt.plot(x,4*x,label=\"4*x values\")\n",
        "plt.legend(loc=\"best\")\n",
        "plt.grid()\n",
        "plt.show()"
      ],
      "execution_count": 0,
      "outputs": [
        {
          "output_type": "display_data",
          "data": {
            "image/png": "[encoded data removed]",
            "text/plain": [
              "<Figure size 432x288 with 1 Axes>"
            ]
          },
          "metadata": {
            "tags": [],
            "needs_background": "light"
          }
        }
      ]
    },
    {
      "cell_type": "code",
      "metadata": {
        "id": "m1v-ysDot41y",
        "colab_type": "code",
        "colab": {},
        "outputId": "dd5d1451-4464-4cfd-d20c-dc0ee18d377c"
      },
      "source": [
        "x = np.linspace(0, 5, 10)\n",
        "y = np.linspace(3, 6, 10)\n",
        "plt.plot(x,y,\"r-\",x,y**2,\"b+\",x,y**3,\"g^\")\n",
        "#plt.plot(x,y,color=\"red\",linestyle=\"-\")\n",
        "plt.show()"
      ],
      "execution_count": 0,
      "outputs": [
        {
          "output_type": "display_data",
          "data": {
            "image/png": "[encoded data removed]",
            "text/plain": [
              "<Figure size 432x288 with 1 Axes>"
            ]
          },
          "metadata": {
            "tags": [],
            "needs_background": "light"
          }
        }
      ]
    },
    {
      "cell_type": "markdown",
      "metadata": {
        "id": "QdzSwoMJt411",
        "colab_type": "text"
      },
      "source": [
        "### 2. Bar plot"
      ]
    },
    {
      "cell_type": "code",
      "metadata": {
        "id": "gH4F-T6St412",
        "colab_type": "code",
        "colab": {},
        "outputId": "1c0c1f16-3692-47c1-a578-6b6fd7159014"
      },
      "source": [
        "sub=['C', 'C++', 'Java', 'Python', 'PHP'] \n",
        "students=[23,17,35,29,12]\n",
        "preference = [90,85,90,95,80]\n",
        "plt.bar(sub,students,color=\"green\",width=0.5)\n",
        "plt.xlabel(\"Languages\")\n",
        "plt.ylabel(\"No of students\")\n",
        "plt.show()"
      ],
      "execution_count": 0,
      "outputs": [
        {
          "output_type": "display_data",
          "data": {
            "image/png": "[encoded data removed]",
            "text/plain": [
              "<Figure size 432x288 with 1 Axes>"
            ]
          },
          "metadata": {
            "tags": [],
            "needs_background": "light"
          }
        }
      ]
    },
    {
      "cell_type": "code",
      "metadata": {
        "id": "5GyjaNfjt416",
        "colab_type": "code",
        "colab": {},
        "outputId": "584e8875-2fbd-42fb-ae22-f5aa492df507"
      },
      "source": [
        "sub=['C', 'C++', 'Java', 'Python', 'PHP'] \n",
        "students=[23,17,35,29,12]\n",
        "preference = [10,85,90,95,80]\n",
        "plt.barh(sub,students,color=\"green\")\n",
        "plt.ylabel(\"Languages\")\n",
        "plt.xlabel(\"No of students\")\n",
        "plt.show()"
      ],
      "execution_count": 0,
      "outputs": [
        {
          "output_type": "display_data",
          "data": {
            "image/png": "[encoded data removed]",
            "text/plain": [
              "<Figure size 432x288 with 1 Axes>"
            ]
          },
          "metadata": {
            "tags": [],
            "needs_background": "light"
          }
        }
      ]
    },
    {
      "cell_type": "code",
      "metadata": {
        "id": "84fJVcmut419",
        "colab_type": "code",
        "colab": {},
        "outputId": "2bbee1bb-ffa1-4f37-fb4b-ea633b715dfb"
      },
      "source": [
        "xpos = np.arange(len(sub))\n",
        "xpos"
      ],
      "execution_count": 0,
      "outputs": [
        {
          "output_type": "execute_result",
          "data": {
            "text/plain": [
              "array([0, 1, 2, 3, 4])"
            ]
          },
          "metadata": {
            "tags": []
          },
          "execution_count": 59
        }
      ]
    },
    {
      "cell_type": "code",
      "metadata": {
        "id": "MFFkkj1Yt42B",
        "colab_type": "code",
        "colab": {},
        "outputId": "60de78a0-1324-4f48-b87c-f590bc7b7136"
      },
      "source": [
        "plt.bar(xpos-0.2,students,width=0.4,label=\"students\")\n",
        "plt.bar(xpos+0.2,preference,width=0.4,label=\"preference\")\n",
        "plt.legend()\n",
        "plt.xticks(xpos,sub)\n",
        "plt.show()"
      ],
      "execution_count": 0,
      "outputs": [
        {
          "output_type": "display_data",
          "data": {
            "image/png": "[encoded data removed]",
            "text/plain": [
              "<Figure size 432x288 with 1 Axes>"
            ]
          },
          "metadata": {
            "tags": [],
            "needs_background": "light"
          }
        }
      ]
    },
    {
      "cell_type": "markdown",
      "metadata": {
        "id": "eI6tyxMLt42E",
        "colab_type": "text"
      },
      "source": [
        "### 3. Scatter plot"
      ]
    },
    {
      "cell_type": "code",
      "metadata": {
        "id": "ZjvsZIeNt42F",
        "colab_type": "code",
        "colab": {},
        "outputId": "423056bc-d3d7-4ef7-96d3-ecf2c12f6b3f"
      },
      "source": [
        "girls_grades = [89, 90, 70, 89, 100, 80, 90, 100, 80, 34] \n",
        "boys_grades = [30, 29, 49, 48, 100, 48, 38, 45, 20, 30] \n",
        "grades_range = [10, 20, 30, 40, 50, 60, 70, 80, 90, 100] \n",
        "plt.scatter(grades_range,girls_grades,color=\"red\")\n",
        "plt.scatter(grades_range,boys_grades,color=\"blue\")\n",
        "plt.xlabel(\"grades_range\")\n",
        "plt.ylabel(\"grade\")\n",
        "plt.title(\"scatter plot\")\n",
        "plt.show()"
      ],
      "execution_count": 0,
      "outputs": [
        {
          "output_type": "display_data",
          "data": {
            "image/png": "[encoded data removed]",
            "text/plain": [
              "<Figure size 432x288 with 1 Axes>"
            ]
          },
          "metadata": {
            "tags": [],
            "needs_background": "light"
          }
        }
      ]
    },
    {
      "cell_type": "markdown",
      "metadata": {
        "id": "Pb5ZkD6Wt42K",
        "colab_type": "text"
      },
      "source": [
        "### 4. Histogram"
      ]
    },
    {
      "cell_type": "code",
      "metadata": {
        "id": "E3wgT1O5t42K",
        "colab_type": "code",
        "colab": {},
        "outputId": "67c95d08-2546-49ab-8b35-92b3551263d7"
      },
      "source": [
        "a=np.array([22,87,5,43,56,73,55,54,11,20,51,5,79,31,27]) \n",
        "plt.hist(a,bins=[0,25,50,75,100])\n",
        "plt.grid()\n",
        "plt.show()\n"
      ],
      "execution_count": 0,
      "outputs": [
        {
          "output_type": "display_data",
          "data": {
            "image/png": "[encoded data removed]",
            "text/plain": [
              "<Figure size 432x288 with 1 Axes>"
            ]
          },
          "metadata": {
            "tags": [],
            "needs_background": "light"
          }
        }
      ]
    },
    {
      "cell_type": "markdown",
      "metadata": {
        "id": "Ln86waxUt42Q",
        "colab_type": "text"
      },
      "source": [
        "### 5. pie plot"
      ]
    },
    {
      "cell_type": "code",
      "metadata": {
        "id": "IN7rpLCJt42Q",
        "colab_type": "code",
        "colab": {},
        "outputId": "1e3b814e-9d8d-40aa-a58f-9c1d1746c51a"
      },
      "source": [
        "exp_vals = [1400,600,300,410,250]\n",
        "exp_labels = [\"Home Rent\",\"Food\",\"Phone/Internet Bill\",\"Car \",\"Other Utilities\"]\n",
        "plt.pie(exp_vals,labels=exp_labels,autopct=\"%0.2f%%\",radius=1.5,\n",
        "        colors=[\"red\",\"blue\",\"green\",\"gold\",\"pink\"],explode=[0,0,0,0,0.4],\n",
        "        startangle=45)\n",
        "plt.show()"
      ],
      "execution_count": 0,
      "outputs": [
        {
          "output_type": "display_data",
          "data": {
            "image/png": "[encoded data removed]",
            "text/plain": [
              "<Figure size 432x288 with 1 Axes>"
            ]
          },
          "metadata": {
            "tags": []
          }
        }
      ]
    },
    {
      "cell_type": "markdown",
      "metadata": {
        "id": "NWnK25dft42T",
        "colab_type": "text"
      },
      "source": [
        "### 6. Subplots"
      ]
    },
    {
      "cell_type": "code",
      "metadata": {
        "id": "DJFG4c26t42U",
        "colab_type": "code",
        "colab": {},
        "outputId": "d6dc6ae3-6e20-467d-c18d-eb8ffac6e5b5"
      },
      "source": [
        "fig,a = plt.subplots(2,2)\n",
        "x = np.arange(1,5)\n",
        "a[0][0].plot(x,x*x)\n",
        "a[0][0].set_title(\"squre\")\n",
        "a[0][1].plot(x,np.sqrt(x))\n",
        "a[0][1].set_title(\"squre root\")\n",
        "a[1][0].plot(x,np.exp(x))\n",
        "a[1][0].set_title(\"exp\")\n",
        "a[1][1].plot(x,np.log10(x))\n",
        "a[1][1].set_title(\"log\")\n",
        "plt.show()"
      ],
      "execution_count": 0,
      "outputs": [
        {
          "output_type": "display_data",
          "data": {
            "image/png": "[encoded data removed]",
            "text/plain": [
              "<Figure size 432x288 with 4 Axes>"
            ]
          },
          "metadata": {
            "tags": [],
            "needs_background": "light"
          }
        }
      ]
    },
    {
      "cell_type": "code",
      "metadata": {
        "id": "4hASdKK6t42X",
        "colab_type": "code",
        "colab": {},
        "outputId": "702e880f-88fe-4c36-91f9-ef890808f41a"
      },
      "source": [
        "fig"
      ],
      "execution_count": 0,
      "outputs": [
        {
          "output_type": "execute_result",
          "data": {
            "image/png": "[encoded data removed]",
            "text/plain": [
              "<Figure size 432x288 with 4 Axes>"
            ]
          },
          "metadata": {
            "tags": []
          },
          "execution_count": 94
        }
      ]
    },
    {
      "cell_type": "markdown",
      "metadata": {
        "id": "Jigqr1MDt42Z",
        "colab_type": "text"
      },
      "source": [
        "###  7. Box plot"
      ]
    },
    {
      "cell_type": "code",
      "metadata": {
        "id": "O0Vs3Gpat42a",
        "colab_type": "code",
        "colab": {},
        "outputId": "0b97804f-4910-4915-8f3b-329727937e4f"
      },
      "source": [
        "values = np.arange(1,21,2)\n",
        "plt.ylim(0,21)\n",
        "plt.boxplot(values)\n",
        "plt.xlabel(\"Box Position\")\n",
        "plt.ylabel(\"values\")\n",
        "plt.title(\"Box plot\")\n",
        "#plt.grid()\n",
        "plt.show()"
      ],
      "execution_count": 0,
      "outputs": [
        {
          "output_type": "display_data",
          "data": {
            "image/png": "[encoded data removed]",
            "text/plain": [
              "<Figure size 432x288 with 1 Axes>"
            ]
          },
          "metadata": {
            "tags": [],
            "needs_background": "light"
          }
        }
      ]
    },
    {
      "cell_type": "code",
      "metadata": {
        "id": "U42FLjlxt42c",
        "colab_type": "code",
        "colab": {}
      },
      "source": [
        ""
      ],
      "execution_count": 0,
      "outputs": []
    }
  ]
}