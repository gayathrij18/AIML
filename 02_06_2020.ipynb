{
  "nbformat": 4,
  "nbformat_minor": 0,
  "metadata": {
    "colab": {
      "name": "02-06-2020",
      "provenance": [],
      "collapsed_sections": []
    },
    "kernelspec": {
      "name": "python3",
      "display_name": "Python 3"
    }
  },
  "cells": [
    {
      "cell_type": "code",
      "metadata": {
        "id": "vVKClYw0Hn-h",
        "colab_type": "code",
        "colab": {}
      },
      "source": [
        "#folder\n",
        "import os\n",
        "import string\n",
        "import random\n",
        "os.mkdir(\"python class\")\n",
        "for i in range(5):\n",
        "    file_name=open(file_name,\"W\")\n",
        "    data=\" \"\n",
        "    data=data+random.choice(string.ascii_letters)\n",
        "    f.write(data)\n",
        "    f.close()"
      ],
      "execution_count": 0,
      "outputs": []
    },
    {
      "cell_type": "code",
      "metadata": {
        "id": "zDAo4JTMH6Q2",
        "colab_type": "code",
        "colab": {
          "base_uri": "https://localhost:8080/",
          "height": 34
        },
        "outputId": "e9c07ed1-d24a-46e1-bb29-ad3a374cb019"
      },
      "source": [
        "#Create another list with even elements of list1\n",
        "list1=list(range(1,11))\n",
        "list2=[]\n",
        "for i in list1:\n",
        "    if i%2==0:\n",
        "        list2.append(i)\n",
        "print(list2)"
      ],
      "execution_count": 6,
      "outputs": [
        {
          "output_type": "stream",
          "text": [
            "[2, 4, 6, 8, 10]\n"
          ],
          "name": "stdout"
        }
      ]
    },
    {
      "cell_type": "code",
      "metadata": {
        "id": "g8OTR-utH6Wn",
        "colab_type": "code",
        "colab": {
          "base_uri": "https://localhost:8080/",
          "height": 34
        },
        "outputId": "8cd96ca5-7502-4c82-db95-e1017fbbce16"
      },
      "source": [
        "#List comprehension\n",
        "list3=[i for i in list1 if i%2==0]\n",
        "print(list3)"
      ],
      "execution_count": 7,
      "outputs": [
        {
          "output_type": "stream",
          "text": [
            "[2, 4, 6, 8, 10]\n"
          ],
          "name": "stdout"
        }
      ]
    },
    {
      "cell_type": "code",
      "metadata": {
        "id": "IdZvmrV6H6nF",
        "colab_type": "code",
        "colab": {
          "base_uri": "https://localhost:8080/",
          "height": 50
        },
        "outputId": "ad1d982d-8b1a-46dc-b862-be82aac2af4c"
      },
      "source": [
        "#Input:\"Hello 12345\"\n",
        "#Output:['1','2','3','4','5']5\n",
        "string=input(\"enter a string\")\n",
        "list4=[ch for ch in string if ch.isdigit()]\n",
        "print(list4,len(list4))"
      ],
      "execution_count": 8,
      "outputs": [
        {
          "output_type": "stream",
          "text": [
            "enter a stringHello 12345\n",
            "['1', '2', '3', '4', '5'] 5\n"
          ],
          "name": "stdout"
        }
      ]
    },
    {
      "cell_type": "code",
      "metadata": {
        "id": "ztnXlDf1IkgE",
        "colab_type": "code",
        "colab": {
          "base_uri": "https://localhost:8080/",
          "height": 34
        },
        "outputId": "8f7aad09-14d9-4347-e836-c4e65744a787"
      },
      "source": [
        "list5=list(range(1,11))\n",
        "list6=list(range(11,21))\n",
        "print(list5,list6)"
      ],
      "execution_count": 9,
      "outputs": [
        {
          "output_type": "stream",
          "text": [
            "[1, 2, 3, 4, 5, 6, 7, 8, 9, 10] [11, 12, 13, 14, 15, 16, 17, 18, 19, 20]\n"
          ],
          "name": "stdout"
        }
      ]
    },
    {
      "cell_type": "code",
      "metadata": {
        "id": "ftN5yK0lIkjx",
        "colab_type": "code",
        "colab": {
          "base_uri": "https://localhost:8080/",
          "height": 34
        },
        "outputId": "f80e0304-ca50-470d-ce85-98bb546389ef"
      },
      "source": [
        "result=[list5[i]+list6[i] for i in range(len(list5))]\n",
        "result"
      ],
      "execution_count": 10,
      "outputs": [
        {
          "output_type": "execute_result",
          "data": {
            "text/plain": [
              "[12, 14, 16, 18, 20, 22, 24, 26, 28, 30]"
            ]
          },
          "metadata": {
            "tags": []
          },
          "execution_count": 10
        }
      ]
    },
    {
      "cell_type": "code",
      "metadata": {
        "id": "W1AvxBwFIknY",
        "colab_type": "code",
        "colab": {
          "base_uri": "https://localhost:8080/",
          "height": 34
        },
        "outputId": "6309881c-ae3a-490d-a60c-50b437a282f0"
      },
      "source": [
        "#Zip\n",
        "result=[x+y for x,y in zip(list5,list6)]\n",
        "result"
      ],
      "execution_count": 11,
      "outputs": [
        {
          "output_type": "execute_result",
          "data": {
            "text/plain": [
              "[12, 14, 16, 18, 20, 22, 24, 26, 28, 30]"
            ]
          },
          "metadata": {
            "tags": []
          },
          "execution_count": 11
        }
      ]
    },
    {
      "cell_type": "markdown",
      "metadata": {
        "id": "-59sQE2WI4BG",
        "colab_type": "text"
      },
      "source": [
        "#Anonymous function (lambda function)\n",
        "\n",
        "lambda arguments:logic"
      ]
    },
    {
      "cell_type": "code",
      "metadata": {
        "id": "CNAGDmP1I3PP",
        "colab_type": "code",
        "colab": {}
      },
      "source": [
        "s=lambda x:x**2"
      ],
      "execution_count": 0,
      "outputs": []
    },
    {
      "cell_type": "code",
      "metadata": {
        "id": "K3Rsdih4IkrN",
        "colab_type": "code",
        "colab": {
          "base_uri": "https://localhost:8080/",
          "height": 34
        },
        "outputId": "6541cdae-ec62-4518-8560-a978d7ea380d"
      },
      "source": [
        "s(12)"
      ],
      "execution_count": 13,
      "outputs": [
        {
          "output_type": "execute_result",
          "data": {
            "text/plain": [
              "144"
            ]
          },
          "metadata": {
            "tags": []
          },
          "execution_count": 13
        }
      ]
    },
    {
      "cell_type": "code",
      "metadata": {
        "id": "KurfojbsIkuj",
        "colab_type": "code",
        "colab": {
          "base_uri": "https://localhost:8080/",
          "height": 34
        },
        "outputId": "62dc17e8-fbd0-4eb3-d29d-7cc94ea8c80a"
      },
      "source": [
        "add=lambda x,y:x+y\n",
        "add(10,20)"
      ],
      "execution_count": 14,
      "outputs": [
        {
          "output_type": "execute_result",
          "data": {
            "text/plain": [
              "30"
            ]
          },
          "metadata": {
            "tags": []
          },
          "execution_count": 14
        }
      ]
    },
    {
      "cell_type": "markdown",
      "metadata": {
        "id": "Yxz_uEZIJMg9",
        "colab_type": "text"
      },
      "source": [
        "#map()"
      ]
    },
    {
      "cell_type": "code",
      "metadata": {
        "id": "fK3Bs1jVIkyI",
        "colab_type": "code",
        "colab": {
          "base_uri": "https://localhost:8080/",
          "height": 34
        },
        "outputId": "10649215-857f-4598-e615-ba4f8fbca0cd"
      },
      "source": [
        "list6=list(range(1,11))\n",
        "list6"
      ],
      "execution_count": 15,
      "outputs": [
        {
          "output_type": "execute_result",
          "data": {
            "text/plain": [
              "[1, 2, 3, 4, 5, 6, 7, 8, 9, 10]"
            ]
          },
          "metadata": {
            "tags": []
          },
          "execution_count": 15
        }
      ]
    },
    {
      "cell_type": "code",
      "metadata": {
        "id": "ZuO4CH1AIk1n",
        "colab_type": "code",
        "colab": {
          "base_uri": "https://localhost:8080/",
          "height": 34
        },
        "outputId": "aba44004-4f53-410a-85d8-a11ff1fb8d30"
      },
      "source": [
        "#Output:[2,4,6,8,10,12,14,16,18,20]\n",
        "result=[i*2 for i in list6]\n",
        "result"
      ],
      "execution_count": 16,
      "outputs": [
        {
          "output_type": "execute_result",
          "data": {
            "text/plain": [
              "[2, 4, 6, 8, 10, 12, 14, 16, 18, 20]"
            ]
          },
          "metadata": {
            "tags": []
          },
          "execution_count": 16
        }
      ]
    },
    {
      "cell_type": "code",
      "metadata": {
        "id": "Pq7QlEwXIk43",
        "colab_type": "code",
        "colab": {
          "base_uri": "https://localhost:8080/",
          "height": 34
        },
        "outputId": "60bffd33-20e6-45cf-b93c-024a8475163c"
      },
      "source": [
        "#map(function_name,iterable object)\n",
        "result=list(map(lambda i:i*2,list6))\n",
        "result"
      ],
      "execution_count": 17,
      "outputs": [
        {
          "output_type": "execute_result",
          "data": {
            "text/plain": [
              "[2, 4, 6, 8, 10, 12, 14, 16, 18, 20]"
            ]
          },
          "metadata": {
            "tags": []
          },
          "execution_count": 17
        }
      ]
    },
    {
      "cell_type": "code",
      "metadata": {
        "id": "frdXQPX8Ik8l",
        "colab_type": "code",
        "colab": {
          "base_uri": "https://localhost:8080/",
          "height": 34
        },
        "outputId": "408b7095-aaa9-410e-dfad-ca1b0f2320ef"
      },
      "source": [
        "'10 20 30'.split()"
      ],
      "execution_count": 18,
      "outputs": [
        {
          "output_type": "execute_result",
          "data": {
            "text/plain": [
              "['10', '20', '30']"
            ]
          },
          "metadata": {
            "tags": []
          },
          "execution_count": 18
        }
      ]
    },
    {
      "cell_type": "code",
      "metadata": {
        "id": "MGZeyiksIlAK",
        "colab_type": "code",
        "colab": {
          "base_uri": "https://localhost:8080/",
          "height": 50
        },
        "outputId": "a8a59ab5-24b6-46e6-c5c7-38b26862c10f"
      },
      "source": [
        "#Unpacking\n",
        "x,y,z=list(map(int,input(\" enter your input:\").split()))\n",
        "print(x,y,z)"
      ],
      "execution_count": 19,
      "outputs": [
        {
          "output_type": "stream",
          "text": [
            " enter your input:10 20 30\n",
            "10 20 30\n"
          ],
          "name": "stdout"
        }
      ]
    },
    {
      "cell_type": "markdown",
      "metadata": {
        "id": "XfH4OWiIJ29u",
        "colab_type": "text"
      },
      "source": [
        "#filter()"
      ]
    },
    {
      "cell_type": "code",
      "metadata": {
        "id": "tnKy1_w-IlDy",
        "colab_type": "code",
        "colab": {
          "base_uri": "https://localhost:8080/",
          "height": 34
        },
        "outputId": "6d421816-6185-49b1-bc61-740b13c14a60"
      },
      "source": [
        "result=[]\n",
        "for i in list6:\n",
        "    if i%5==0:\n",
        "        result.append(i)\n",
        "result"
      ],
      "execution_count": 20,
      "outputs": [
        {
          "output_type": "execute_result",
          "data": {
            "text/plain": [
              "[5, 10]"
            ]
          },
          "metadata": {
            "tags": []
          },
          "execution_count": 20
        }
      ]
    },
    {
      "cell_type": "code",
      "metadata": {
        "id": "Sp0siAILIlJs",
        "colab_type": "code",
        "colab": {
          "base_uri": "https://localhost:8080/",
          "height": 34
        },
        "outputId": "f91021b6-4ff2-44cb-824e-54114654cb20"
      },
      "source": [
        "list(filter(lambda x:(x%3==0),list6))"
      ],
      "execution_count": 21,
      "outputs": [
        {
          "output_type": "execute_result",
          "data": {
            "text/plain": [
              "[3, 6, 9]"
            ]
          },
          "metadata": {
            "tags": []
          },
          "execution_count": 21
        }
      ]
    },
    {
      "cell_type": "markdown",
      "metadata": {
        "id": "ufotDJkzKFer",
        "colab_type": "text"
      },
      "source": [
        "#reduce()"
      ]
    },
    {
      "cell_type": "code",
      "metadata": {
        "id": "ye3riVSCKEMl",
        "colab_type": "code",
        "colab": {}
      },
      "source": [
        "from functools import reduce"
      ],
      "execution_count": 0,
      "outputs": []
    },
    {
      "cell_type": "code",
      "metadata": {
        "id": "dLwGORLQKETb",
        "colab_type": "code",
        "colab": {
          "base_uri": "https://localhost:8080/",
          "height": 34
        },
        "outputId": "f5db2f3b-5094-42f8-caf8-4f4891b56b83"
      },
      "source": [
        "#Traditional\n",
        "list1=[1,2,3,4,5]\n",
        "#Output=120\n",
        "m=1\n",
        "for i in list1:\n",
        "    m*=i\n",
        "print(m)"
      ],
      "execution_count": 23,
      "outputs": [
        {
          "output_type": "stream",
          "text": [
            "120\n"
          ],
          "name": "stdout"
        }
      ]
    }
  ]
}