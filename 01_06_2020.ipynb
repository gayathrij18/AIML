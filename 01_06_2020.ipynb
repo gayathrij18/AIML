{
  "nbformat": 4,
  "nbformat_minor": 0,
  "metadata": {
    "colab": {
      "name": "01-06-2020",
      "provenance": [],
      "collapsed_sections": []
    },
    "kernelspec": {
      "name": "python3",
      "display_name": "Python 3"
    }
  },
  "cells": [
    {
      "cell_type": "markdown",
      "metadata": {
        "id": "uzFd5tBaVD4h",
        "colab_type": "text"
      },
      "source": [
        "#File handling\n",
        "\n",
        "1.create\n",
        "\n",
        "2.write\n",
        "\n",
        "3.reading\n",
        "\n",
        "4.appending\n",
        "\n",
        "5.renaming\n",
        "\n",
        "6.removing"
      ]
    },
    {
      "cell_type": "code",
      "metadata": {
        "id": "3wYy7lbCVR-W",
        "colab_type": "code",
        "colab": {}
      },
      "source": [
        "import os\n",
        "os.rename(\"sample.txt\",\"demo.txt\")"
      ],
      "execution_count": 0,
      "outputs": []
    },
    {
      "cell_type": "code",
      "metadata": {
        "id": "XJbBtPmPVTkF",
        "colab_type": "code",
        "colab": {}
      },
      "source": [
        "os.remove(\"demo.txt\")"
      ],
      "execution_count": 0,
      "outputs": []
    },
    {
      "cell_type": "code",
      "metadata": {
        "id": "hxXR1K8fVTpP",
        "colab_type": "code",
        "colab": {}
      },
      "source": [
        "#Q5 Assignment 30-05-2020\n",
        "import os\n",
        "os.mkdir(\"python\")\n",
        "for i in range(5):\n",
        "    file_name=\" \"\n",
        "    f=open(\"c://python//file name\",\"a\")\n",
        "    for i in range(512):\n",
        "        f.write(\"character\")"
      ],
      "execution_count": 0,
      "outputs": []
    },
    {
      "cell_type": "code",
      "metadata": {
        "id": "--qBq42mVTse",
        "colab_type": "code",
        "colab": {
          "base_uri": "https://localhost:8080/",
          "height": 34
        },
        "outputId": "764bf27d-cb8b-4c44-fcd8-63fdc158d53d"
      },
      "source": [
        "import string\n",
        "string.ascii_letters"
      ],
      "execution_count": 4,
      "outputs": [
        {
          "output_type": "execute_result",
          "data": {
            "text/plain": [
              "'abcdefghijklmnopqrstuvwxyzABCDEFGHIJKLMNOPQRSTUVWXYZ'"
            ]
          },
          "metadata": {
            "tags": []
          },
          "execution_count": 4
        }
      ]
    },
    {
      "cell_type": "code",
      "metadata": {
        "id": "9Jp2DLQGVTw8",
        "colab_type": "code",
        "colab": {
          "base_uri": "https://localhost:8080/",
          "height": 34
        },
        "outputId": "f06293de-9896-4524-9c6b-fa7271ea63eb"
      },
      "source": [
        "string.punctuation"
      ],
      "execution_count": 5,
      "outputs": [
        {
          "output_type": "execute_result",
          "data": {
            "text/plain": [
              "'!\"#$%&\\'()*+,-./:;<=>?@[\\\\]^_`{|}~'"
            ]
          },
          "metadata": {
            "tags": []
          },
          "execution_count": 5
        }
      ]
    },
    {
      "cell_type": "markdown",
      "metadata": {
        "id": "NwK6ikidWNwY",
        "colab_type": "text"
      },
      "source": [
        "#Tuple:\n",
        "\n",
        "1.Immutable(changes are not allowed)\n",
        "\n",
        "2.using() elements are seperated by,\n",
        "\n",
        "3.Indexed,ordered\n",
        "\n",
        "4.allows duplicate values"
      ]
    },
    {
      "cell_type": "code",
      "metadata": {
        "id": "7xmYhtyfVTz_",
        "colab_type": "code",
        "colab": {
          "base_uri": "https://localhost:8080/",
          "height": 34
        },
        "outputId": "e51036e0-4fa6-45c8-92ca-980e28e09556"
      },
      "source": [
        "#Tuple\n",
        "tup1=(12,3,345.56,\"abc\",True)\n",
        "print(type(tup1))"
      ],
      "execution_count": 6,
      "outputs": [
        {
          "output_type": "stream",
          "text": [
            "<class 'tuple'>\n"
          ],
          "name": "stdout"
        }
      ]
    },
    {
      "cell_type": "code",
      "metadata": {
        "id": "T1v5S3SdVT3M",
        "colab_type": "code",
        "colab": {
          "base_uri": "https://localhost:8080/",
          "height": 50
        },
        "outputId": "d18324b0-563f-4d47-fd76-62132c4067bc"
      },
      "source": [
        "print(tup1[2])\n",
        "print(tup1[-1])"
      ],
      "execution_count": 7,
      "outputs": [
        {
          "output_type": "stream",
          "text": [
            "345.56\n",
            "True\n"
          ],
          "name": "stdout"
        }
      ]
    },
    {
      "cell_type": "code",
      "metadata": {
        "id": "wO5wTqX9VT6d",
        "colab_type": "code",
        "colab": {
          "base_uri": "https://localhost:8080/",
          "height": 34
        },
        "outputId": "165020d7-5030-4340-c8ff-e4bbfc2e4b31"
      },
      "source": [
        "l=list(tup1)\n",
        "l[2]=100\n",
        "tup1=tuple(l)\n",
        "tup1"
      ],
      "execution_count": 8,
      "outputs": [
        {
          "output_type": "execute_result",
          "data": {
            "text/plain": [
              "(12, 3, 100, 'abc', True)"
            ]
          },
          "metadata": {
            "tags": []
          },
          "execution_count": 8
        }
      ]
    },
    {
      "cell_type": "markdown",
      "metadata": {
        "id": "9WmZ-_NQWsht",
        "colab_type": "text"
      },
      "source": [
        "#Built-in methods:\n",
        "\n",
        "1.count()\n",
        "\n",
        "2.index()"
      ]
    },
    {
      "cell_type": "code",
      "metadata": {
        "id": "fKzq4gGUVT-A",
        "colab_type": "code",
        "colab": {
          "base_uri": "https://localhost:8080/",
          "height": 50
        },
        "outputId": "f65d53a3-64b7-4bad-aa51-43d157867e2d"
      },
      "source": [
        "print(tup1.count(12))\n",
        "print(tup1.index(12))"
      ],
      "execution_count": 9,
      "outputs": [
        {
          "output_type": "stream",
          "text": [
            "1\n",
            "0\n"
          ],
          "name": "stdout"
        }
      ]
    },
    {
      "cell_type": "markdown",
      "metadata": {
        "id": "64p9qbzKW9FZ",
        "colab_type": "text"
      },
      "source": [
        "#Packing and unpacking"
      ]
    },
    {
      "cell_type": "code",
      "metadata": {
        "id": "2vQTgBNhVUFt",
        "colab_type": "code",
        "colab": {
          "base_uri": "https://localhost:8080/",
          "height": 34
        },
        "outputId": "70c7b9a2-07d7-49d6-de22-3090b20c0999"
      },
      "source": [
        "#unpacking\n",
        "tup2=(12,232,4,354)\n",
        "a,b,c,d=tup2\n",
        "print(d)"
      ],
      "execution_count": 10,
      "outputs": [
        {
          "output_type": "stream",
          "text": [
            "354\n"
          ],
          "name": "stdout"
        }
      ]
    },
    {
      "cell_type": "code",
      "metadata": {
        "id": "rXiZ2-uZXI7m",
        "colab_type": "code",
        "colab": {
          "base_uri": "https://localhost:8080/",
          "height": 50
        },
        "outputId": "493b87f7-6050-4394-e61b-86f905ad278f"
      },
      "source": [
        "#packing\n",
        "x=10,20,30\n",
        "print(type(x))\n",
        "print(x)"
      ],
      "execution_count": 12,
      "outputs": [
        {
          "output_type": "stream",
          "text": [
            "<class 'tuple'>\n",
            "(10, 20, 30)\n"
          ],
          "name": "stdout"
        }
      ]
    },
    {
      "cell_type": "code",
      "metadata": {
        "id": "sT5QitCkXI-9",
        "colab_type": "code",
        "colab": {
          "base_uri": "https://localhost:8080/",
          "height": 34
        },
        "outputId": "fbb4b59c-bc27-488c-c01a-065173161055"
      },
      "source": [
        "#Tuple with single element\n",
        "y=(10,)\n",
        "print(type(y))"
      ],
      "execution_count": 13,
      "outputs": [
        {
          "output_type": "stream",
          "text": [
            "<class 'tuple'>\n"
          ],
          "name": "stdout"
        }
      ]
    },
    {
      "cell_type": "code",
      "metadata": {
        "id": "qHra8xhSXJCd",
        "colab_type": "code",
        "colab": {
          "base_uri": "https://localhost:8080/",
          "height": 34
        },
        "outputId": "abe53e5f-8004-48f4-a46b-eeb3760b269a"
      },
      "source": [
        "#Iterating through tuple\n",
        "for ele in x:\n",
        "     print(ele,end=\" \")"
      ],
      "execution_count": 14,
      "outputs": [
        {
          "output_type": "stream",
          "text": [
            "10 20 30 "
          ],
          "name": "stdout"
        }
      ]
    },
    {
      "cell_type": "markdown",
      "metadata": {
        "id": "9zdJiIitXlkS",
        "colab_type": "text"
      },
      "source": [
        "#Set:\n",
        "\n",
        "1.{ }\n",
        "\n",
        "2.Does not allow deplicates\n",
        "\n",
        "3.not ordered\n",
        "\n",
        "4.unindexed\n",
        "\n",
        "5.mutable"
      ]
    },
    {
      "cell_type": "code",
      "metadata": {
        "id": "735YjPDQXJF7",
        "colab_type": "code",
        "colab": {
          "base_uri": "https://localhost:8080/",
          "height": 34
        },
        "outputId": "3c606422-ec7d-4d69-faca-45c7d64d70bf"
      },
      "source": [
        "set1={1,2,334,45,5,6,3,1}\n",
        "print(set1)"
      ],
      "execution_count": 15,
      "outputs": [
        {
          "output_type": "stream",
          "text": [
            "{1, 2, 3, 5, 6, 45, 334}\n"
          ],
          "name": "stdout"
        }
      ]
    },
    {
      "cell_type": "code",
      "metadata": {
        "id": "dul6mvzlXJLM",
        "colab_type": "code",
        "colab": {
          "base_uri": "https://localhost:8080/",
          "height": 134
        },
        "outputId": "be7364d5-d479-4d5e-f4f0-63f41654ac15"
      },
      "source": [
        "for ele in set1:\n",
        "    print(ele)"
      ],
      "execution_count": 16,
      "outputs": [
        {
          "output_type": "stream",
          "text": [
            "1\n",
            "2\n",
            "3\n",
            "5\n",
            "6\n",
            "45\n",
            "334\n"
          ],
          "name": "stdout"
        }
      ]
    },
    {
      "cell_type": "markdown",
      "metadata": {
        "id": "aUGwgcstYAQd",
        "colab_type": "text"
      },
      "source": [
        "#Built-in functions:\n",
        "\n",
        "1.len()\n",
        "\n",
        "2.min()\n",
        "\n",
        "3.max()\n",
        "\n",
        "4.set()"
      ]
    },
    {
      "cell_type": "code",
      "metadata": {
        "id": "c3qqCDjyXJOb",
        "colab_type": "code",
        "colab": {
          "base_uri": "https://localhost:8080/",
          "height": 84
        },
        "outputId": "81fd3043-480c-40b7-edd3-78b3b456d783"
      },
      "source": [
        "print(set1)\n",
        "print(len(set1))\n",
        "print(min(set1))\n",
        "print(max(set1))"
      ],
      "execution_count": 17,
      "outputs": [
        {
          "output_type": "stream",
          "text": [
            "{1, 2, 3, 5, 6, 45, 334}\n",
            "7\n",
            "1\n",
            "334\n"
          ],
          "name": "stdout"
        }
      ]
    },
    {
      "cell_type": "code",
      "metadata": {
        "id": "2wRN6eqRXJR6",
        "colab_type": "code",
        "colab": {
          "base_uri": "https://localhost:8080/",
          "height": 34
        },
        "outputId": "604391c9-ca57-4757-8345-d004c14f795f"
      },
      "source": [
        "#removing duplicates from the list\n",
        "list1=[1,2,3,4,5,1,2,3]\n",
        "list1=set(list1)\n",
        "list1"
      ],
      "execution_count": 18,
      "outputs": [
        {
          "output_type": "execute_result",
          "data": {
            "text/plain": [
              "{1, 2, 3, 4, 5}"
            ]
          },
          "metadata": {
            "tags": []
          },
          "execution_count": 18
        }
      ]
    },
    {
      "cell_type": "markdown",
      "metadata": {
        "id": "A2BGE7IfYUkp",
        "colab_type": "text"
      },
      "source": [
        "#Built-in methods:\n",
        "\n",
        "##Adding an element\n",
        "\n",
        "1.add() ##Removing an element\n",
        "\n",
        "2.pop()\n",
        "\n",
        "3.remove()"
      ]
    },
    {
      "cell_type": "code",
      "metadata": {
        "id": "f_rDASEFXJUV",
        "colab_type": "code",
        "colab": {
          "base_uri": "https://localhost:8080/",
          "height": 34
        },
        "outputId": "647fd996-a57a-408e-fe69-6c6151b830e7"
      },
      "source": [
        "set2=set()\n",
        "print(type(set2))"
      ],
      "execution_count": 19,
      "outputs": [
        {
          "output_type": "stream",
          "text": [
            "<class 'set'>\n"
          ],
          "name": "stdout"
        }
      ]
    },
    {
      "cell_type": "code",
      "metadata": {
        "id": "gBf7F1vmXJaD",
        "colab_type": "code",
        "colab": {
          "base_uri": "https://localhost:8080/",
          "height": 34
        },
        "outputId": "e3ec8cc4-38b0-4af2-fda9-5419d53e1485"
      },
      "source": [
        "#adding an element\n",
        "set2.add(12)\n",
        "set2.add(23)\n",
        "set2.add(100)\n",
        "set2"
      ],
      "execution_count": 20,
      "outputs": [
        {
          "output_type": "execute_result",
          "data": {
            "text/plain": [
              "{12, 23, 100}"
            ]
          },
          "metadata": {
            "tags": []
          },
          "execution_count": 20
        }
      ]
    },
    {
      "cell_type": "code",
      "metadata": {
        "id": "Ow21kJktXJfi",
        "colab_type": "code",
        "colab": {
          "base_uri": "https://localhost:8080/",
          "height": 34
        },
        "outputId": "a6b36864-1e69-4399-bef3-b9367ae616a6"
      },
      "source": [
        "set2.pop()"
      ],
      "execution_count": 21,
      "outputs": [
        {
          "output_type": "execute_result",
          "data": {
            "text/plain": [
              "100"
            ]
          },
          "metadata": {
            "tags": []
          },
          "execution_count": 21
        }
      ]
    },
    {
      "cell_type": "code",
      "metadata": {
        "id": "msYN75zeXJlE",
        "colab_type": "code",
        "colab": {}
      },
      "source": [
        "set2.discard(12)"
      ],
      "execution_count": 0,
      "outputs": []
    },
    {
      "cell_type": "code",
      "metadata": {
        "id": "yZc2rajCXJjm",
        "colab_type": "code",
        "colab": {
          "base_uri": "https://localhost:8080/",
          "height": 34
        },
        "outputId": "6dbd15be-5e43-4f77-f998-6708b86fa6db"
      },
      "source": [
        "set2.clear()\n",
        "set2"
      ],
      "execution_count": 23,
      "outputs": [
        {
          "output_type": "execute_result",
          "data": {
            "text/plain": [
              "set()"
            ]
          },
          "metadata": {
            "tags": []
          },
          "execution_count": 23
        }
      ]
    },
    {
      "cell_type": "code",
      "metadata": {
        "id": "1UaUnhAdXJeN",
        "colab_type": "code",
        "colab": {
          "base_uri": "https://localhost:8080/",
          "height": 84
        },
        "outputId": "f0644b7f-a255-461b-8567-f374d8296847"
      },
      "source": [
        "#union,difference,intersection\n",
        "A={1,2,3,4,5}\n",
        "B={3,4,5,6,7}\n",
        "print(A.union(B))\n",
        "print(A.difference(B))\n",
        "print(B.difference(A))\n",
        "print(A.intersection(B))"
      ],
      "execution_count": 24,
      "outputs": [
        {
          "output_type": "stream",
          "text": [
            "{1, 2, 3, 4, 5, 6, 7}\n",
            "{1, 2}\n",
            "{6, 7}\n",
            "{3, 4, 5}\n"
          ],
          "name": "stdout"
        }
      ]
    },
    {
      "cell_type": "code",
      "metadata": {
        "id": "F5vHxpduXJYK",
        "colab_type": "code",
        "colab": {
          "base_uri": "https://localhost:8080/",
          "height": 84
        },
        "outputId": "4dc035df-9bed-4922-ca03-7e746c2acabb"
      },
      "source": [
        "#subset,super set,disjoint\n",
        "C={1,2,3,4,5,6,7,8,9,10}\n",
        "print(A.issubset(C))\n",
        "print(A.issubset(B))\n",
        "print(C.issuperset(A))\n",
        "print(C.issuperset(B))"
      ],
      "execution_count": 25,
      "outputs": [
        {
          "output_type": "stream",
          "text": [
            "True\n",
            "False\n",
            "True\n",
            "True\n"
          ],
          "name": "stdout"
        }
      ]
    },
    {
      "cell_type": "code",
      "metadata": {
        "id": "a9UJtANwXJKG",
        "colab_type": "code",
        "colab": {
          "base_uri": "https://localhost:8080/",
          "height": 50
        },
        "outputId": "beec7859-a15f-42a5-a5f9-ab949ccc7c00"
      },
      "source": [
        "#disjoint\n",
        "X={1,2}\n",
        "Y={23,34,45}\n",
        "print(A.isdisjoint(B))\n",
        "print(X.isdisjoint(Y))"
      ],
      "execution_count": 26,
      "outputs": [
        {
          "output_type": "stream",
          "text": [
            "False\n",
            "True\n"
          ],
          "name": "stdout"
        }
      ]
    },
    {
      "cell_type": "code",
      "metadata": {
        "id": "ok2K4uXnVUDj",
        "colab_type": "code",
        "colab": {
          "base_uri": "https://localhost:8080/",
          "height": 67
        },
        "outputId": "a7f9e0da-1ed8-4b97-8694-8907ec77bfd1"
      },
      "source": [
        "#symmetric difference\n",
        "print(A.symmetric_difference(B))\n",
        "print(A)\n",
        "print(B)"
      ],
      "execution_count": 27,
      "outputs": [
        {
          "output_type": "stream",
          "text": [
            "{1, 2, 6, 7}\n",
            "{1, 2, 3, 4, 5}\n",
            "{3, 4, 5, 6, 7}\n"
          ],
          "name": "stdout"
        }
      ]
    },
    {
      "cell_type": "code",
      "metadata": {
        "id": "WYm6fWh0ZcE6",
        "colab_type": "code",
        "colab": {}
      },
      "source": [
        "A.union(B) ==>{1,2,3,4,5,6,7}\n",
        "A==>{1,2,3,4,5}\n",
        "B==>{3,4,5,6,7}\n",
        "=====================\n",
        "A==>{1,2,3,4,5,6,7}\n",
        "B==>{3,4,5,6,7}"
      ],
      "execution_count": 0,
      "outputs": []
    },
    {
      "cell_type": "code",
      "metadata": {
        "id": "FMiETXNCZcIX",
        "colab_type": "code",
        "colab": {
          "base_uri": "https://localhost:8080/",
          "height": 50
        },
        "outputId": "651d9a71-2e31-44ab-979f-9aebf8e85df0"
      },
      "source": [
        "A.update(B)\n",
        "print(A)\n",
        "print(B)"
      ],
      "execution_count": 29,
      "outputs": [
        {
          "output_type": "stream",
          "text": [
            "{1, 2, 3, 4, 5, 6, 7}\n",
            "{3, 4, 5, 6, 7}\n"
          ],
          "name": "stdout"
        }
      ]
    },
    {
      "cell_type": "code",
      "metadata": {
        "id": "86DtCjp2ZcOk",
        "colab_type": "code",
        "colab": {
          "base_uri": "https://localhost:8080/",
          "height": 50
        },
        "outputId": "ce345bb9-c84e-4e8d-8e39-4d6a9e4937f3"
      },
      "source": [
        "A.intersection_update(B)\n",
        "print(A)\n",
        "print(B)"
      ],
      "execution_count": 31,
      "outputs": [
        {
          "output_type": "stream",
          "text": [
            "{3, 4, 5, 6, 7}\n",
            "{3, 4, 5, 6, 7}\n"
          ],
          "name": "stdout"
        }
      ]
    },
    {
      "cell_type": "code",
      "metadata": {
        "id": "nDykXGZkZcSD",
        "colab_type": "code",
        "colab": {
          "base_uri": "https://localhost:8080/",
          "height": 50
        },
        "outputId": "457ac07d-f1ac-4226-9b96-62af936bfae2"
      },
      "source": [
        "A.difference_update(B)\n",
        "print(A)\n",
        "print(B)"
      ],
      "execution_count": 32,
      "outputs": [
        {
          "output_type": "stream",
          "text": [
            "set()\n",
            "{3, 4, 5, 6, 7}\n"
          ],
          "name": "stdout"
        }
      ]
    },
    {
      "cell_type": "code",
      "metadata": {
        "id": "tTh31akNZcWP",
        "colab_type": "code",
        "colab": {
          "base_uri": "https://localhost:8080/",
          "height": 50
        },
        "outputId": "23678469-4cd1-42ee-f157-1d0e1c3db45e"
      },
      "source": [
        "A.symmetric_difference_update(B)\n",
        "print(A)\n",
        "print(B)"
      ],
      "execution_count": 33,
      "outputs": [
        {
          "output_type": "stream",
          "text": [
            "{3, 4, 5, 6, 7}\n",
            "{3, 4, 5, 6, 7}\n"
          ],
          "name": "stdout"
        }
      ]
    },
    {
      "cell_type": "code",
      "metadata": {
        "id": "_ndOTeZ4ZccB",
        "colab_type": "code",
        "colab": {
          "base_uri": "https://localhost:8080/",
          "height": 134
        },
        "outputId": "ddb32a20-7927-455c-bec6-0b18e82912bc"
      },
      "source": [
        "A={1,2,3}\n",
        "B={2,3,4}\n",
        "print(A.difference(B))\n",
        "print(B.difference(A))\n",
        "print(A.symmetric_difference(B))\n",
        "print(A)\n",
        "print(B)\n",
        "A.symmetric_difference_update(B)\n",
        "print(A)\n",
        "print(B)"
      ],
      "execution_count": 34,
      "outputs": [
        {
          "output_type": "stream",
          "text": [
            "{1}\n",
            "{4}\n",
            "{1, 4}\n",
            "{1, 2, 3}\n",
            "{2, 3, 4}\n",
            "{1, 4}\n",
            "{2, 3, 4}\n"
          ],
          "name": "stdout"
        }
      ]
    },
    {
      "cell_type": "markdown",
      "metadata": {
        "id": "cAJGIQ4raHyR",
        "colab_type": "text"
      },
      "source": [
        "#Dictionary\n",
        "\n",
        "dictionary name={key1:value1,key2:value2.....}\n",
        "\n",
        "##Rules:\n",
        "\n",
        "1.keys should be unique\n",
        "\n",
        "2.keys should be immutable"
      ]
    },
    {
      "cell_type": "code",
      "metadata": {
        "id": "tgVUmxyKZcl1",
        "colab_type": "code",
        "colab": {
          "base_uri": "https://localhost:8080/",
          "height": 34
        },
        "outputId": "1bfbda42-2620-4ffd-aad4-5fb08e4bd5ba"
      },
      "source": [
        "#creating dictionary\n",
        "dict1={\"name\":\"xyz\",\"empid\":123,\"address\":\"hyd\"}\n",
        "print(dict1)"
      ],
      "execution_count": 35,
      "outputs": [
        {
          "output_type": "stream",
          "text": [
            "{'name': 'xyz', 'empid': 123, 'address': 'hyd'}\n"
          ],
          "name": "stdout"
        }
      ]
    },
    {
      "cell_type": "code",
      "metadata": {
        "id": "GKPFSp7fZcpu",
        "colab_type": "code",
        "colab": {
          "base_uri": "https://localhost:8080/",
          "height": 34
        },
        "outputId": "c4c0ad8b-b263-4ac3-87bc-6fac4b3d85a2"
      },
      "source": [
        "#extracting element\n",
        "print(dict1[\"empid\"])"
      ],
      "execution_count": 36,
      "outputs": [
        {
          "output_type": "stream",
          "text": [
            "123\n"
          ],
          "name": "stdout"
        }
      ]
    },
    {
      "cell_type": "code",
      "metadata": {
        "id": "xp9iFANgZcsz",
        "colab_type": "code",
        "colab": {
          "base_uri": "https://localhost:8080/",
          "height": 34
        },
        "outputId": "e9034dd1-67aa-4151-e659-60f8aa488fd4"
      },
      "source": [
        "#removing or deleting an entry\n",
        "del dict1[\"address\"]\n",
        "print(dict1)"
      ],
      "execution_count": 37,
      "outputs": [
        {
          "output_type": "stream",
          "text": [
            "{'name': 'xyz', 'empid': 123}\n"
          ],
          "name": "stdout"
        }
      ]
    },
    {
      "cell_type": "code",
      "metadata": {
        "id": "XAzBG95KZc0V",
        "colab_type": "code",
        "colab": {
          "base_uri": "https://localhost:8080/",
          "height": 34
        },
        "outputId": "901d34d0-766d-49b7-df00-c614b992fec0"
      },
      "source": [
        "#adding an entry\n",
        "dict1[\"course\"]=\"python\"\n",
        "print(dict1)"
      ],
      "execution_count": 38,
      "outputs": [
        {
          "output_type": "stream",
          "text": [
            "{'name': 'xyz', 'empid': 123, 'course': 'python'}\n"
          ],
          "name": "stdout"
        }
      ]
    },
    {
      "cell_type": "markdown",
      "metadata": {
        "id": "BmOPtZrba6hF",
        "colab_type": "text"
      },
      "source": [
        "#Built-in method:\n",
        "\n",
        "1.key()\n",
        "\n",
        "2.items()\n",
        "\n",
        "3.items()\n",
        "\n",
        "4.get()\n",
        "\n",
        "5.update()\n",
        "\n",
        "6.pop()\n",
        "\n",
        "7.popitem"
      ]
    },
    {
      "cell_type": "code",
      "metadata": {
        "id": "cDGFzxiZZc4b",
        "colab_type": "code",
        "colab": {
          "base_uri": "https://localhost:8080/",
          "height": 67
        },
        "outputId": "8f4beef9-e4b2-41f4-900e-ab7a8d931d75"
      },
      "source": [
        "print(dict1.keys())\n",
        "print(dict1.values())\n",
        "print(dict1.items())"
      ],
      "execution_count": 39,
      "outputs": [
        {
          "output_type": "stream",
          "text": [
            "dict_keys(['name', 'empid', 'course'])\n",
            "dict_values(['xyz', 123, 'python'])\n",
            "dict_items([('name', 'xyz'), ('empid', 123), ('course', 'python')])\n"
          ],
          "name": "stdout"
        }
      ]
    },
    {
      "cell_type": "code",
      "metadata": {
        "id": "j6E1IlT4Zc_L",
        "colab_type": "code",
        "colab": {
          "base_uri": "https://localhost:8080/",
          "height": 50
        },
        "outputId": "0001f323-27a8-4014-8730-ba305428cd50"
      },
      "source": [
        "#extracting an element\n",
        "print(dict1[\"name\"])\n",
        "print(dict1.get(\"name\"))"
      ],
      "execution_count": 40,
      "outputs": [
        {
          "output_type": "stream",
          "text": [
            "xyz\n",
            "xyz\n"
          ],
          "name": "stdout"
        }
      ]
    },
    {
      "cell_type": "code",
      "metadata": {
        "id": "WDqzXqnJZcxN",
        "colab_type": "code",
        "colab": {
          "base_uri": "https://localhost:8080/",
          "height": 34
        },
        "outputId": "5f425b83-4022-4036-9a4b-678f33f382c3"
      },
      "source": [
        "#adding an entry\n",
        "dict1[\"address\"]=\"hyd\"\n",
        "dict1"
      ],
      "execution_count": 41,
      "outputs": [
        {
          "output_type": "execute_result",
          "data": {
            "text/plain": [
              "{'address': 'hyd', 'course': 'python', 'empid': 123, 'name': 'xyz'}"
            ]
          },
          "metadata": {
            "tags": []
          },
          "execution_count": 41
        }
      ]
    },
    {
      "cell_type": "code",
      "metadata": {
        "id": "Y8J4CuM_ZckI",
        "colab_type": "code",
        "colab": {
          "base_uri": "https://localhost:8080/",
          "height": 34
        },
        "outputId": "851f9caf-b61b-4b6c-f2fe-519828cd7765"
      },
      "source": [
        "d={1:1,2:2,3:3}\n",
        "dict1.update(d)\n",
        "print(dict1)"
      ],
      "execution_count": 42,
      "outputs": [
        {
          "output_type": "stream",
          "text": [
            "{'name': 'xyz', 'empid': 123, 'course': 'python', 'address': 'hyd', 1: 1, 2: 2, 3: 3}\n"
          ],
          "name": "stdout"
        }
      ]
    },
    {
      "cell_type": "code",
      "metadata": {
        "id": "JoQzmyj3ZcLc",
        "colab_type": "code",
        "colab": {
          "base_uri": "https://localhost:8080/",
          "height": 34
        },
        "outputId": "24dbb503-4f4e-43f2-d41d-d17e85ac217c"
      },
      "source": [
        "dict1.popitem()"
      ],
      "execution_count": 48,
      "outputs": [
        {
          "output_type": "execute_result",
          "data": {
            "text/plain": [
              "(3, 3)"
            ]
          },
          "metadata": {
            "tags": []
          },
          "execution_count": 48
        }
      ]
    },
    {
      "cell_type": "code",
      "metadata": {
        "id": "MGbZEPltb6EY",
        "colab_type": "code",
        "colab": {
          "base_uri": "https://localhost:8080/",
          "height": 34
        },
        "outputId": "8851b415-86f2-4635-ac82-ac585810c78b"
      },
      "source": [
        "dict1"
      ],
      "execution_count": 49,
      "outputs": [
        {
          "output_type": "execute_result",
          "data": {
            "text/plain": [
              "{1: 1, 2: 2, 'address': 'hyd', 'course': 'python', 'empid': 123}"
            ]
          },
          "metadata": {
            "tags": []
          },
          "execution_count": 49
        }
      ]
    },
    {
      "cell_type": "code",
      "metadata": {
        "id": "PiKh0BFXb6O2",
        "colab_type": "code",
        "colab": {
          "base_uri": "https://localhost:8080/",
          "height": 34
        },
        "outputId": "42f3661a-5f8b-4260-ef19-6e3af2c5a1e4"
      },
      "source": [
        "dict1.popitem()"
      ],
      "execution_count": 50,
      "outputs": [
        {
          "output_type": "execute_result",
          "data": {
            "text/plain": [
              "(2, 2)"
            ]
          },
          "metadata": {
            "tags": []
          },
          "execution_count": 50
        }
      ]
    },
    {
      "cell_type": "code",
      "metadata": {
        "id": "EEPu7yytb6Lb",
        "colab_type": "code",
        "colab": {
          "base_uri": "https://localhost:8080/",
          "height": 34
        },
        "outputId": "a0602962-fa8f-48ee-f604-6238487390e9"
      },
      "source": [
        "import random\n",
        "random.randint(1,100)\n",
        "#random.choice()"
      ],
      "execution_count": 51,
      "outputs": [
        {
          "output_type": "execute_result",
          "data": {
            "text/plain": [
              "70"
            ]
          },
          "metadata": {
            "tags": []
          },
          "execution_count": 51
        }
      ]
    }
  ]
}