{
  "nbformat": 4,
  "nbformat_minor": 0,
  "metadata": {
    "colab": {
      "name": "30-05-2020",
      "provenance": [],
      "collapsed_sections": []
    },
    "kernelspec": {
      "name": "python3",
      "display_name": "Python 3"
    }
  },
  "cells": [
    {
      "cell_type": "code",
      "metadata": {
        "id": "UWJr_-d3PKA0",
        "colab_type": "code",
        "colab": {
          "base_uri": "https://localhost:8080/",
          "height": 34
        },
        "outputId": "32bd1a32-b6cd-4ce9-d0b1-05cb8f6dc5c2"
      },
      "source": [
        "#Recursive functions\n",
        "#factorial of number\n",
        "def Factorial(n):\n",
        "    if n==0 or n==1:\n",
        "      return 1\n",
        "    else:\n",
        "      return n*Factorial(n-1)\n",
        "Factorial(5)"
      ],
      "execution_count": 1,
      "outputs": [
        {
          "output_type": "execute_result",
          "data": {
            "text/plain": [
              "120"
            ]
          },
          "metadata": {
            "tags": []
          },
          "execution_count": 1
        }
      ]
    },
    {
      "cell_type": "code",
      "metadata": {
        "id": "CC13-tTFPOYs",
        "colab_type": "code",
        "colab": {
          "base_uri": "https://localhost:8080/",
          "height": 67
        },
        "outputId": "d6524e26-ac06-4b17-eecd-b8981f4e3912"
      },
      "source": [
        "#lower bound and upper bound\n",
        "def display(lb,ub):\n",
        "    if lb>ub:\n",
        "       return\n",
        "    else:\n",
        "       print(lb,end=\" \")\n",
        "       display(lb+1,ub)\n",
        "lb=int(input())\n",
        "ub=int(input())\n",
        "display(lb,ub)"
      ],
      "execution_count": 2,
      "outputs": [
        {
          "output_type": "stream",
          "text": [
            "1\n",
            "10\n",
            "1 2 3 4 5 6 7 8 9 10 "
          ],
          "name": "stdout"
        }
      ]
    },
    {
      "cell_type": "code",
      "metadata": {
        "id": "vPLi40WlPOc7",
        "colab_type": "code",
        "colab": {
          "base_uri": "https://localhost:8080/",
          "height": 50
        },
        "outputId": "5aa3fdea-9655-4ade-f06f-95e8a9baea21"
      },
      "source": [
        "#Fibanocci series:0,1,1,2,3,5,8,13\n",
        "import time\n",
        "def recur_fibo(n):\n",
        "    if n==1:\n",
        "       return 0\n",
        "    elif n==2:\n",
        "       return 1\n",
        "    else:\n",
        "       return recur_fibo(n-1)+recur_fibo(n-2)\n",
        "prev=time.time()\n",
        "print(recur_fibo(10))\n",
        "print(time.time()-prev)"
      ],
      "execution_count": 3,
      "outputs": [
        {
          "output_type": "stream",
          "text": [
            "34\n",
            "0.0010936260223388672\n"
          ],
          "name": "stdout"
        }
      ]
    },
    {
      "cell_type": "code",
      "metadata": {
        "id": "G06joxM9POhT",
        "colab_type": "code",
        "colab": {
          "base_uri": "https://localhost:8080/",
          "height": 50
        },
        "outputId": "3e7a84e8-880d-4c4f-9e19-a09664a4f71b"
      },
      "source": [
        "import time\n",
        "fibs=[0,1]\n",
        "def Fibanocci(n):\n",
        "    if n<=len(fibs):\n",
        "       return fibs[n-1]\n",
        "    else:\n",
        "       fibs.append(fibs[len(fibs)-1]+fibs[len(fibs)-2])\n",
        "       return Fibanocci(n)\n",
        "prev=time.time()\n",
        "print(Fibanocci(20))\n",
        "print(time.time()-prev)"
      ],
      "execution_count": 4,
      "outputs": [
        {
          "output_type": "stream",
          "text": [
            "4181\n",
            "0.00024080276489257812\n"
          ],
          "name": "stdout"
        }
      ]
    },
    {
      "cell_type": "code",
      "metadata": {
        "id": "F1rxmBGPPOk_",
        "colab_type": "code",
        "colab": {
          "base_uri": "https://localhost:8080/",
          "height": 84
        },
        "outputId": "62d80652-a38c-43c3-ca9c-759f1d61037f"
      },
      "source": [
        "#Built-in functions:len(),min(),max(),list()\n",
        "list1=[12,34,45,6,\"str\",True]\n",
        "list2=[34,45,6.6,45,[12,23,34,45,[23,34,45,6]]]\n",
        "string=\"python\"\n",
        "print(\"length of list:\",len(list1))\n",
        "print(list(string))\n",
        "print(list1[4][1])\n",
        "print(list2[4][4][3])"
      ],
      "execution_count": 5,
      "outputs": [
        {
          "output_type": "stream",
          "text": [
            "length of list: 6\n",
            "['p', 'y', 't', 'h', 'o', 'n']\n",
            "t\n",
            "6\n"
          ],
          "name": "stdout"
        }
      ]
    },
    {
      "cell_type": "markdown",
      "metadata": {
        "id": "V9PInQZUP9sw",
        "colab_type": "text"
      },
      "source": [
        "#Built in methods\n",
        "\n",
        "1.append\n",
        "\n",
        "2.insert\n",
        "\n",
        "3.extend"
      ]
    },
    {
      "cell_type": "code",
      "metadata": {
        "id": "JkT-aV21POo3",
        "colab_type": "code",
        "colab": {
          "base_uri": "https://localhost:8080/",
          "height": 50
        },
        "outputId": "38498b77-6ef7-41e2-b04e-9f0b9f80f563"
      },
      "source": [
        "#append\n",
        "list1=[1,2,3,4]\n",
        "list1.append(6)\n",
        "print(list1)\n",
        "list1.append(7)\n",
        "print(list1)"
      ],
      "execution_count": 6,
      "outputs": [
        {
          "output_type": "stream",
          "text": [
            "[1, 2, 3, 4, 6]\n",
            "[1, 2, 3, 4, 6, 7]\n"
          ],
          "name": "stdout"
        }
      ]
    },
    {
      "cell_type": "code",
      "metadata": {
        "id": "sJRxCsmUPOrx",
        "colab_type": "code",
        "colab": {
          "base_uri": "https://localhost:8080/",
          "height": 34
        },
        "outputId": "0dc1ef3f-fa1a-4cf2-9040-3d26e3680b59"
      },
      "source": [
        "#insert\n",
        "list1.insert(2,100)\n",
        "print(list1)"
      ],
      "execution_count": 7,
      "outputs": [
        {
          "output_type": "stream",
          "text": [
            "[1, 2, 100, 3, 4, 6, 7]\n"
          ],
          "name": "stdout"
        }
      ]
    },
    {
      "cell_type": "code",
      "metadata": {
        "id": "TGk1T6zWPOvK",
        "colab_type": "code",
        "colab": {
          "base_uri": "https://localhost:8080/",
          "height": 34
        },
        "outputId": "c060aa18-a6b0-4dfd-e20c-c12035d455e2"
      },
      "source": [
        "#extend\n",
        "list1.extend([8,9,10])\n",
        "print(list1)"
      ],
      "execution_count": 8,
      "outputs": [
        {
          "output_type": "stream",
          "text": [
            "[1, 2, 100, 3, 4, 6, 7, 8, 9, 10]\n"
          ],
          "name": "stdout"
        }
      ]
    },
    {
      "cell_type": "code",
      "metadata": {
        "id": "mB8XWrVeQWxk",
        "colab_type": "code",
        "colab": {
          "base_uri": "https://localhost:8080/",
          "height": 34
        },
        "outputId": "990d9699-73a9-4616-f4a3-f4af48854d93"
      },
      "source": [
        "#Removing elements\n",
        "list1.pop(2)\n",
        "print(list1)"
      ],
      "execution_count": 9,
      "outputs": [
        {
          "output_type": "stream",
          "text": [
            "[1, 2, 3, 4, 6, 7, 8, 9, 10]\n"
          ],
          "name": "stdout"
        }
      ]
    },
    {
      "cell_type": "code",
      "metadata": {
        "id": "8Fy-Oc-lQW0o",
        "colab_type": "code",
        "colab": {
          "base_uri": "https://localhost:8080/",
          "height": 34
        },
        "outputId": "4673d461-3e44-418a-83c4-7cb88d2ef8aa"
      },
      "source": [
        "#remove\n",
        "list1.remove(9)\n",
        "print(list1)"
      ],
      "execution_count": 10,
      "outputs": [
        {
          "output_type": "stream",
          "text": [
            "[1, 2, 3, 4, 6, 7, 8, 10]\n"
          ],
          "name": "stdout"
        }
      ]
    },
    {
      "cell_type": "code",
      "metadata": {
        "id": "cKaghHFPQW45",
        "colab_type": "code",
        "colab": {
          "base_uri": "https://localhost:8080/",
          "height": 34
        },
        "outputId": "4d5ac426-cff8-43fc-dfcc-2cf50cb57285"
      },
      "source": [
        "#clear\n",
        "list1.clear()\n",
        "list1"
      ],
      "execution_count": 11,
      "outputs": [
        {
          "output_type": "execute_result",
          "data": {
            "text/plain": [
              "[]"
            ]
          },
          "metadata": {
            "tags": []
          },
          "execution_count": 11
        }
      ]
    },
    {
      "cell_type": "code",
      "metadata": {
        "id": "J_o4T5ONQW8a",
        "colab_type": "code",
        "colab": {
          "base_uri": "https://localhost:8080/",
          "height": 50
        },
        "outputId": "9cc3e6a9-50a7-4539-c207-bdec9e3741e9"
      },
      "source": [
        "list1=[23,34,56,76,68,79,80,78,76]\n",
        "print(list1.index(34))\n",
        "print(list1.count(76))"
      ],
      "execution_count": 12,
      "outputs": [
        {
          "output_type": "stream",
          "text": [
            "1\n",
            "2\n"
          ],
          "name": "stdout"
        }
      ]
    },
    {
      "cell_type": "code",
      "metadata": {
        "id": "dsbBjM4bQW_9",
        "colab_type": "code",
        "colab": {
          "base_uri": "https://localhost:8080/",
          "height": 34
        },
        "outputId": "09e82834-761a-4faa-edee-36282c190a27"
      },
      "source": [
        "list1.sort()\n",
        "print(list1)"
      ],
      "execution_count": 13,
      "outputs": [
        {
          "output_type": "stream",
          "text": [
            "[23, 34, 56, 68, 76, 76, 78, 79, 80]\n"
          ],
          "name": "stdout"
        }
      ]
    },
    {
      "cell_type": "code",
      "metadata": {
        "id": "ae7vIwLWQXEL",
        "colab_type": "code",
        "colab": {
          "base_uri": "https://localhost:8080/",
          "height": 50
        },
        "outputId": "7636b648-01d3-4e10-e580-e349c335d640"
      },
      "source": [
        "list1.sort(reverse=True)\n",
        "print(list1)\n",
        "#ascending\n",
        "list1.sort(reverse=False)\n",
        "print(list1)"
      ],
      "execution_count": 14,
      "outputs": [
        {
          "output_type": "stream",
          "text": [
            "[80, 79, 78, 76, 76, 68, 56, 34, 23]\n",
            "[23, 34, 56, 68, 76, 76, 78, 79, 80]\n"
          ],
          "name": "stdout"
        }
      ]
    },
    {
      "cell_type": "code",
      "metadata": {
        "id": "rtqMl_yIQXHQ",
        "colab_type": "code",
        "colab": {
          "base_uri": "https://localhost:8080/",
          "height": 34
        },
        "outputId": "2ab3159d-aa12-4e0a-da02-0dfb3fe4c7ec"
      },
      "source": [
        "#reverse\n",
        "list1.reverse()\n",
        "print(list1)"
      ],
      "execution_count": 15,
      "outputs": [
        {
          "output_type": "stream",
          "text": [
            "[80, 79, 78, 76, 76, 68, 56, 34, 23]\n"
          ],
          "name": "stdout"
        }
      ]
    },
    {
      "cell_type": "code",
      "metadata": {
        "id": "AvGufYjoQ96g",
        "colab_type": "code",
        "colab": {
          "base_uri": "https://localhost:8080/",
          "height": 67
        },
        "outputId": "0db4e66c-ff6e-4dfb-b0a2-314ae22d5e7d"
      },
      "source": [
        "list1=[1,2,3,4,5]\n",
        "list2=[]\n",
        "list3=[]\n",
        "list2=list1\n",
        "print(list2)\n",
        "list3=list1.copy()\n",
        "print(list3)\n",
        "list1.append(6)\n",
        "list1.append(7)\n",
        "print(list1,list2,list3)"
      ],
      "execution_count": 16,
      "outputs": [
        {
          "output_type": "stream",
          "text": [
            "[1, 2, 3, 4, 5]\n",
            "[1, 2, 3, 4, 5]\n",
            "[1, 2, 3, 4, 5, 6, 7] [1, 2, 3, 4, 5, 6, 7] [1, 2, 3, 4, 5]\n"
          ],
          "name": "stdout"
        }
      ]
    },
    {
      "cell_type": "markdown",
      "metadata": {
        "id": "G7OXNa0-RS5c",
        "colab_type": "text"
      },
      "source": [
        "#Modes\n",
        "\n",
        "1.write \n",
        "\n",
        "2.read\n",
        "\n",
        "3.append\n",
        "\n",
        "4.new file creation\n",
        "\n",
        "1.open\n",
        "\n",
        "2.close"
      ]
    },
    {
      "cell_type": "code",
      "metadata": {
        "id": "jnHCuvfDQ9_V",
        "colab_type": "code",
        "colab": {}
      },
      "source": [
        "f=open(\"sample.txt\",\"w\")\n",
        "f.write(\"hello!!!\")\n",
        "f.close()"
      ],
      "execution_count": 0,
      "outputs": []
    },
    {
      "cell_type": "code",
      "metadata": {
        "id": "mPsJn9Q4Q-DH",
        "colab_type": "code",
        "colab": {
          "base_uri": "https://localhost:8080/",
          "height": 34
        },
        "outputId": "f46d8cbc-a989-401c-d398-9a9876ba5f08"
      },
      "source": [
        "f=open(\"sample.txt\",\"r\")\n",
        "data=f.read()\n",
        "print(data)\n",
        "f.close()"
      ],
      "execution_count": 19,
      "outputs": [
        {
          "output_type": "stream",
          "text": [
            "hello!!!\n"
          ],
          "name": "stdout"
        }
      ]
    },
    {
      "cell_type": "code",
      "metadata": {
        "id": "PTT0PpIKQ-HD",
        "colab_type": "code",
        "colab": {}
      },
      "source": [
        "f=open(\"sample.txt\",\"a\")\n",
        "s='''\\nhow are you?\n",
        "'''\n",
        "f.write(s)\n",
        "f.close()"
      ],
      "execution_count": 0,
      "outputs": []
    },
    {
      "cell_type": "code",
      "metadata": {
        "id": "G-LP9jbtQ-Ky",
        "colab_type": "code",
        "colab": {
          "base_uri": "https://localhost:8080/",
          "height": 84
        },
        "outputId": "0bf1c5ef-38f1-423b-fce2-7cb8f3844e45"
      },
      "source": [
        "f=open(\"sample.txt\",\"r\")\n",
        "data=f.read()\n",
        "print(data)\n",
        "f.close"
      ],
      "execution_count": 22,
      "outputs": [
        {
          "output_type": "stream",
          "text": [
            "hello!!!\n",
            "how are you?\n",
            "\n"
          ],
          "name": "stdout"
        },
        {
          "output_type": "execute_result",
          "data": {
            "text/plain": [
              "<function TextIOWrapper.close>"
            ]
          },
          "metadata": {
            "tags": []
          },
          "execution_count": 22
        }
      ]
    }
  ]
}