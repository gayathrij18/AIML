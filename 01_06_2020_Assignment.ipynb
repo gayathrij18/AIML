{
 "cells": [
  {
   "cell_type": "code",
   "execution_count": 4,
   "metadata": {
    "colab": {
     "base_uri": "https://localhost:8080/",
     "height": 50
    },
    "colab_type": "code",
    "id": "LIYVskhMPy1S",
    "outputId": "6cb58d34-c744-414e-8d08-83eb322315cc"
   },
   "outputs": [
    {
     "name": "stdout",
     "output_type": "stream",
     "text": [
      "fancycase71!\n",
      "do you want another password NO\n"
     ]
    }
   ],
   "source": [
    "#Project\n",
    "l1=[\"save\",\"blood\",\"beautiful\",\"chubby\",\"hot\",\"dazzling\",\"drab\",\"elegant\",\"fancy\",\"fit\"]\n",
    "l2=[\"AAA\",\"bones\",\"business\",\"case\",\"Games\",\"company\",\"country\",\"day\",\"eye\",\"fact\"]\n",
    "l3=[\"!\",\"@\",\"#\",\"$\",\"%\",\"*\"]\n",
    "import random\n",
    "while True:\n",
    "    x=str(random.choice(l1))\n",
    "    y=str(random.choice(l2))\n",
    "    z=str(random.randint(0,100))\n",
    "    r=str(random.choice(l3))\n",
    "    print(str(x+y+z+r))\n",
    "    pwd=input(\"do you want another password \")\n",
    "    if pwd==\"NO\":\n",
    "        break\n",
    "    else:\n",
    "        continue"
   ]
  }
 ],
 "metadata": {
  "colab": {
   "collapsed_sections": [],
   "name": "01-06-2020 Assignment",
   "provenance": []
  },
  "kernelspec": {
   "display_name": "Python 3",
   "language": "python",
   "name": "python3"
  },
  "language_info": {
   "codemirror_mode": {
    "name": "ipython",
    "version": 3
   },
   "file_extension": ".py",
   "mimetype": "text/x-python",
   "name": "python",
   "nbconvert_exporter": "python",
   "pygments_lexer": "ipython3",
   "version": "3.7.6"
  }
 },
 "nbformat": 4,
 "nbformat_minor": 1
}
