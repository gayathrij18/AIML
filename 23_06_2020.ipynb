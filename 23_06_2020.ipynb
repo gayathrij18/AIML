{
  "nbformat": 4,
  "nbformat_minor": 0,
  "metadata": {
    "colab": {
      "name": "23-06-2020",
      "provenance": [],
      "toc_visible": true
    },
    "kernelspec": {
      "name": "python3",
      "display_name": "Python 3"
    }
  },
  "cells": [
    {
      "cell_type": "markdown",
      "metadata": {
        "id": "PHGXJ00O6U6B",
        "colab_type": "text"
      },
      "source": [
        "##Reference list:https://docs.google.com/document/d/19OrOw98fZZgfhDpKrgWsUcAiBrgk_Uq5J6Re6SedHEc/edit"
      ]
    },
    {
      "cell_type": "markdown",
      "metadata": {
        "id": "nIki9sMs7F_3",
        "colab_type": "text"
      },
      "source": [
        "##class:http://tiny.cc/23-06-2020"
      ]
    },
    {
      "cell_type": "code",
      "metadata": {
        "id": "CQowhW1t7KMp",
        "colab_type": "code",
        "colab": {}
      },
      "source": [
        ""
      ],
      "execution_count": null,
      "outputs": []
    }
  ]
}