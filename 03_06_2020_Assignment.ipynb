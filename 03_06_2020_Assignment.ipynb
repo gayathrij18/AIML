{
  "nbformat": 4,
  "nbformat_minor": 0,
  "metadata": {
    "colab": {
      "name": "03-06-2020 Assignment",
      "provenance": [],
      "collapsed_sections": []
    },
    "kernelspec": {
      "name": "python3",
      "display_name": "Python 3"
    }
  },
  "cells": [
    {
      "cell_type": "code",
      "metadata": {
        "id": "CFXJXuBjKx4o",
        "colab_type": "code",
        "colab": {
          "base_uri": "https://localhost:8080/",
          "height": 34
        },
        "outputId": "94911dc5-405f-4a89-e9db-10f59cc601c4"
      },
      "source": [
        "#Answer1\n",
        "f = open(\"file1.txt\", \"w\")\n",
        "f.write(\"Data Science With Python,Advanced Programming,AI and ML,Full Stack Web Development\")\n",
        "f.close()\n",
        "f = open(\"file1.txt\",\"r\")\n",
        "data = f.read()\n",
        "print(data)\n",
        "f.close()\n",
        "f = open(\"file2.txt\",\"w\")\n",
        "f.write(data[::-1])\n",
        "f.close()"
      ],
      "execution_count": 1,
      "outputs": [
        {
          "output_type": "stream",
          "text": [
            "Data Science With Python,Advanced Programming,AI and ML,Full Stack Web Development\n"
          ],
          "name": "stdout"
        }
      ]
    },
    {
      "cell_type": "code",
      "metadata": {
        "id": "zY2lslJWLVls",
        "colab_type": "code",
        "colab": {
          "base_uri": "https://localhost:8080/",
          "height": 134
        },
        "outputId": "219bfd66-2615-4e3f-cc51-cf6b6788f4b2"
      },
      "source": [
        "#Answer2\n",
        "L = [\"Data Science\\n\", \"Advanced Programming\\n\", \"AI and ML\\n\",\"Full Stack Web Development\\n\",\"Python Programming\\n\",\"Summer Internship\\n\"]\n",
        "f1 = open(\"myfile.txt\", \"w\") \n",
        "f1.writelines(L) \n",
        "f1.close()\n",
        "f1 = open(\"myfile.txt\", \"r\") \n",
        "count = 0\n",
        "print(\"Contents of file in order:\") \n",
        "for line in f1: \n",
        "    count += 1\n",
        "    print(\"{}. {}\".format(count, line.strip()))\n",
        "f1.close()"
      ],
      "execution_count": 3,
      "outputs": [
        {
          "output_type": "stream",
          "text": [
            "Contents of file in order:\n",
            "1. Data Science\n",
            "2. Advanced Programming\n",
            "3. AI and ML\n",
            "4. Full Stack Web Development\n",
            "5. Python Programming\n",
            "6. Summer Internship\n"
          ],
          "name": "stdout"
        }
      ]
    },
    {
      "cell_type": "code",
      "metadata": {
        "id": "mUAOHmz_LVpK",
        "colab_type": "code",
        "colab": {
          "base_uri": "https://localhost:8080/",
          "height": 34
        },
        "outputId": "06c5cfa3-1fde-469f-81b6-31555a3dd6b7"
      },
      "source": [
        "#Answer3\n",
        "def Duplicates(listOfElems):\n",
        "    if len(list1) == len(set(list1)):\n",
        "        return False\n",
        "    else:\n",
        "        return True\n",
        "list1=[1,2,3,4,2]    \n",
        "result=Duplicates(list1)\n",
        "print(result)"
      ],
      "execution_count": 4,
      "outputs": [
        {
          "output_type": "stream",
          "text": [
            "True\n"
          ],
          "name": "stdout"
        }
      ]
    },
    {
      "cell_type": "code",
      "metadata": {
        "id": "8bj6G4bfLVsn",
        "colab_type": "code",
        "colab": {}
      },
      "source": [
        "#Answer4\n",
        "import fractions as f\n",
        "f.fracdis(10,20)\n",
        "f.add(10,20,30,40)\n",
        "f.sub(10,20,30,40)      \n",
        "f.mul(10,20,30,40)\n",
        "f.div(10,20,30,40)"
      ],
      "execution_count": 0,
      "outputs": []
    },
    {
      "cell_type": "code",
      "metadata": {
        "id": "biui00q-LVz6",
        "colab_type": "code",
        "colab": {
          "base_uri": "https://localhost:8080/",
          "height": 34
        },
        "outputId": "11585bb3-819b-4a59-e808-bf11ee0c9519"
      },
      "source": [
        "#Answer5\n",
        "L1=[1,2,1]\n",
        "L2=[2,1,1]\n",
        "def Permutation(list1,list2):\n",
        "    if len(list1)!= len(list2):\n",
        "         return False;\n",
        "    for i in range(0, len(list1)):\n",
        "           if list1.count(list1[i]) != list2.count(list1[i]):\n",
        "                 return False\n",
        "def islist_permutation(list1,list2):\n",
        "      if (Permutation(list1,list2) == False):\n",
        "        return False \n",
        "      else:\n",
        "        return True\n",
        "print(islist_permutation(L1,L2))"
      ],
      "execution_count": 13,
      "outputs": [
        {
          "output_type": "stream",
          "text": [
            "True\n"
          ],
          "name": "stdout"
        }
      ]
    }
  ]
}