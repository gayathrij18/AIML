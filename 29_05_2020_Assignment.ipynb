{
  "nbformat": 4,
  "nbformat_minor": 0,
  "metadata": {
    "colab": {
      "name": "29-05-2020 Assignment",
      "provenance": []
    },
    "kernelspec": {
      "name": "python3",
      "display_name": "Python 3"
    }
  },
  "cells": [
    {
      "cell_type": "code",
      "metadata": {
        "id": "kxZi0a21FTtU",
        "colab_type": "code",
        "colab": {
          "base_uri": "https://localhost:8080/",
          "height": 50
        },
        "outputId": "7652678f-0c25-4612-9850-4a09287f15b2"
      },
      "source": [
        "#1)\n",
        "\n",
        "def factorial(n):\n",
        "    if n== 1:\n",
        "        return n\n",
        "    else:\n",
        "        return n * factorial(n-1)\n",
        "num = int(input(\"Enter a number: \"))\n",
        "print(factorial(num))"
      ],
      "execution_count": 2,
      "outputs": [
        {
          "output_type": "stream",
          "text": [
            "Enter a number: 6\n",
            "720\n"
          ],
          "name": "stdout"
        }
      ]
    },
    {
      "cell_type": "code",
      "metadata": {
        "id": "-5KZNDvAFslN",
        "colab_type": "code",
        "colab": {
          "base_uri": "https://localhost:8080/",
          "height": 34
        },
        "outputId": "228ecc30-8213-4506-8317-f143f5f87ef6"
      },
      "source": [
        "#2)\n",
        "\n",
        "def Fibonacci(n): \n",
        "    if n<0: \n",
        "        print(\"Incorrect input\") \n",
        "    elif n==1: \n",
        "        return 0\n",
        "    elif n==2: \n",
        "        return 1\n",
        "    else: \n",
        "        return Fibonacci(n-1)+Fibonacci(n-2) \n",
        "    \n",
        "print(Fibonacci(8))"
      ],
      "execution_count": 3,
      "outputs": [
        {
          "output_type": "stream",
          "text": [
            "13\n"
          ],
          "name": "stdout"
        }
      ]
    },
    {
      "cell_type": "code",
      "metadata": {
        "id": "IhWc985rFsu8",
        "colab_type": "code",
        "colab": {
          "base_uri": "https://localhost:8080/",
          "height": 34
        },
        "outputId": "7c42447b-893c-458c-cddd-3b0c9aa95192"
      },
      "source": [
        "#3)\n",
        "\n",
        "list=[1,2,3,4,5]\n",
        "print(sum(list))"
      ],
      "execution_count": 4,
      "outputs": [
        {
          "output_type": "stream",
          "text": [
            "15\n"
          ],
          "name": "stdout"
        }
      ]
    },
    {
      "cell_type": "code",
      "metadata": {
        "id": "SVU8IQOVFs0U",
        "colab_type": "code",
        "colab": {
          "base_uri": "https://localhost:8080/",
          "height": 50
        },
        "outputId": "bd501877-7b77-4ff0-e0b0-5414a3ba5625"
      },
      "source": [
        "#4)\n",
        "\n",
        "list = [1,2,3,4,5]\n",
        "for i in list:\n",
        "    if i % 2 == 0: \n",
        "        print(i)"
      ],
      "execution_count": 5,
      "outputs": [
        {
          "output_type": "stream",
          "text": [
            "2\n",
            "4\n"
          ],
          "name": "stdout"
        }
      ]
    },
    {
      "cell_type": "code",
      "metadata": {
        "id": "htdtvctJFs6F",
        "colab_type": "code",
        "colab": {
          "base_uri": "https://localhost:8080/",
          "height": 50
        },
        "outputId": "9a5e35d3-c17e-4674-973d-a708357436cb"
      },
      "source": [
        "#5)\n",
        "\n",
        "a = [10, 50, 60, 80, 20, 15]\n",
        "print(\"The Smallest Element in this List is : \", min(a))\n",
        "print(\"The Index of the Smallest Element in this List is : \", a.index(min(a)))"
      ],
      "execution_count": 6,
      "outputs": [
        {
          "output_type": "stream",
          "text": [
            "The Smallest Element in this List is :  10\n",
            "The Index of the Smallest Element in this List is :  0\n"
          ],
          "name": "stdout"
        }
      ]
    },
    {
      "cell_type": "code",
      "metadata": {
        "id": "63-gINVGFs-z",
        "colab_type": "code",
        "colab": {
          "base_uri": "https://localhost:8080/",
          "height": 50
        },
        "outputId": "4a660b8d-7d19-4a13-a550-6b1b15d6ab48"
      },
      "source": [
        "#6)\n",
        "\n",
        "def palindrome(str):\n",
        "    if str==str[::-1]:\n",
        "        return \"palindrome\"\n",
        "    else:\n",
        "        return 'not a palindrome'\n",
        "str=input(\"enter a string\")\n",
        "print(palindrome(str))"
      ],
      "execution_count": 9,
      "outputs": [
        {
          "output_type": "stream",
          "text": [
            "enter a stringaayaa\n",
            "palindrome\n"
          ],
          "name": "stdout"
        }
      ]
    },
    {
      "cell_type": "code",
      "metadata": {
        "id": "2abFAuVhFtDO",
        "colab_type": "code",
        "colab": {
          "base_uri": "https://localhost:8080/",
          "height": 50
        },
        "outputId": "76f431a2-258a-47e1-de27-0445dc353500"
      },
      "source": [
        "#7)\n",
        "\n",
        "list1 = [10, 21, 4, 45, 66, 93, 1] \n",
        "even_count, odd_count = 0, 0\n",
        "for num in list1:\n",
        "    if num % 2 == 0:\n",
        "        even_count += 1\n",
        "    else:\n",
        "        odd_count += 1\n",
        "          \n",
        "print(\"Even numbers in the list: \", even_count) \n",
        "print(\"Odd numbers in the list: \", odd_count)"
      ],
      "execution_count": 10,
      "outputs": [
        {
          "output_type": "stream",
          "text": [
            "Even numbers in the list:  3\n",
            "Odd numbers in the list:  4\n"
          ],
          "name": "stdout"
        }
      ]
    },
    {
      "cell_type": "code",
      "metadata": {
        "id": "lRbHou6MGt02",
        "colab_type": "code",
        "colab": {
          "base_uri": "https://localhost:8080/",
          "height": 50
        },
        "outputId": "666540e5-0f6e-44d3-b5bf-e62a6186634c"
      },
      "source": [
        "#8)\n",
        "\n",
        "for x in range(6):\n",
        "    if (x == 3 or x==6):\n",
        "        continue\n",
        "    print(x,end=' ')\n",
        "print(\"\\n\")"
      ],
      "execution_count": 11,
      "outputs": [
        {
          "output_type": "stream",
          "text": [
            "0 1 2 4 5 \n",
            "\n"
          ],
          "name": "stdout"
        }
      ]
    },
    {
      "cell_type": "code",
      "metadata": {
        "id": "i5QNeQp7Gt8L",
        "colab_type": "code",
        "colab": {
          "base_uri": "https://localhost:8080/",
          "height": 50
        },
        "outputId": "84d7be40-8b77-4b65-ed25-befc2de86a5a"
      },
      "source": [
        "#9)\n",
        "\n",
        "def prime(n):\n",
        "    count=0\n",
        "    for i in range(2,n+1):\n",
        "        if n%i==0:\n",
        "            count+=1\n",
        "    if count==1:\n",
        "        return \"prime\"\n",
        "    else:\n",
        "        return \"not a prime\"\n",
        "\n",
        "n=int(input(\"enter n\"))\n",
        "print(prime(n))"
      ],
      "execution_count": 12,
      "outputs": [
        {
          "output_type": "stream",
          "text": [
            "enter n13\n",
            "prime\n"
          ],
          "name": "stdout"
        }
      ]
    },
    {
      "cell_type": "code",
      "metadata": {
        "id": "xHhOQo9IGuFN",
        "colab_type": "code",
        "colab": {
          "base_uri": "https://localhost:8080/",
          "height": 50
        },
        "outputId": "b980be5e-d650-4612-ee5c-d33b6e89ff64"
      },
      "source": [
        "#10)\n",
        "\n",
        "def rev(n):\n",
        "    rev = 0\n",
        "    while n > 0:\n",
        "        rem = n%10\n",
        "        rev = rev*10+rem\n",
        "        n = n//10\n",
        "    return rev\n",
        "n = int(input(\"enter a number\"))\n",
        "s1 = n*n\n",
        "rev1 = rev(n)\n",
        "s2 = rev1*rev1\n",
        "if s1 == rev(s2):\n",
        "    print(\"Adam Number\")\n",
        "else:\n",
        "    print(\"Not a Adam Number\")"
      ],
      "execution_count": 14,
      "outputs": [
        {
          "output_type": "stream",
          "text": [
            "enter a number12\n",
            "Adam Number\n"
          ],
          "name": "stdout"
        }
      ]
    }
  ]
}