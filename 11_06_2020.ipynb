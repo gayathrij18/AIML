{
  "nbformat": 4,
  "nbformat_minor": 0,
  "metadata": {
    "kernelspec": {
      "display_name": "Python 3",
      "language": "python",
      "name": "python3"
    },
    "language_info": {
      "codemirror_mode": {
        "name": "ipython",
        "version": 3
      },
      "file_extension": ".py",
      "mimetype": "text/x-python",
      "name": "python",
      "nbconvert_exporter": "python",
      "pygments_lexer": "ipython3",
      "version": "3.7.6"
    },
    "colab": {
      "name": "11-06-2020.ipynb",
      "provenance": [],
      "collapsed_sections": []
    }
  },
  "cells": [
    {
      "cell_type": "code",
      "metadata": {
        "id": "q9i-A1sEup8J",
        "colab_type": "code",
        "colab": {}
      },
      "source": [
        "import pandas as pd"
      ],
      "execution_count": 0,
      "outputs": []
    },
    {
      "cell_type": "code",
      "metadata": {
        "id": "YFVa1dZ6up8U",
        "colab_type": "code",
        "colab": {},
        "outputId": "68552b9f-cfba-49f2-9a82-af4e056821b2"
      },
      "source": [
        "data = {\"Student ID\":[416,375,400,211,312],\n",
        "\"Communication\":[7,6,5,8,9],\n",
        "\"Placed\":[\"Yes\",\"No\",\"No\",\"Yes\",\"Yes\"]}\n",
        "\n",
        "placement_data  =  pd.DataFrame(data)\n",
        "placement_data"
      ],
      "execution_count": 0,
      "outputs": [
        {
          "output_type": "execute_result",
          "data": {
            "text/html": [
              "<div>\n",
              "<style scoped>\n",
              "    .dataframe tbody tr th:only-of-type {\n",
              "        vertical-align: middle;\n",
              "    }\n",
              "\n",
              "    .dataframe tbody tr th {\n",
              "        vertical-align: top;\n",
              "    }\n",
              "\n",
              "    .dataframe thead th {\n",
              "        text-align: right;\n",
              "    }\n",
              "</style>\n",
              "<table border=\"1\" class=\"dataframe\">\n",
              "  <thead>\n",
              "    <tr style=\"text-align: right;\">\n",
              "      <th></th>\n",
              "      <th>Student ID</th>\n",
              "      <th>Communication</th>\n",
              "      <th>Placed</th>\n",
              "    </tr>\n",
              "  </thead>\n",
              "  <tbody>\n",
              "    <tr>\n",
              "      <th>0</th>\n",
              "      <td>416</td>\n",
              "      <td>7</td>\n",
              "      <td>Yes</td>\n",
              "    </tr>\n",
              "    <tr>\n",
              "      <th>1</th>\n",
              "      <td>375</td>\n",
              "      <td>6</td>\n",
              "      <td>No</td>\n",
              "    </tr>\n",
              "    <tr>\n",
              "      <th>2</th>\n",
              "      <td>400</td>\n",
              "      <td>5</td>\n",
              "      <td>No</td>\n",
              "    </tr>\n",
              "    <tr>\n",
              "      <th>3</th>\n",
              "      <td>211</td>\n",
              "      <td>8</td>\n",
              "      <td>Yes</td>\n",
              "    </tr>\n",
              "    <tr>\n",
              "      <th>4</th>\n",
              "      <td>312</td>\n",
              "      <td>9</td>\n",
              "      <td>Yes</td>\n",
              "    </tr>\n",
              "  </tbody>\n",
              "</table>\n",
              "</div>"
            ],
            "text/plain": [
              "   Student ID  Communication Placed\n",
              "0         416              7    Yes\n",
              "1         375              6     No\n",
              "2         400              5     No\n",
              "3         211              8    Yes\n",
              "4         312              9    Yes"
            ]
          },
          "metadata": {
            "tags": []
          },
          "execution_count": 4
        }
      ]
    },
    {
      "cell_type": "markdown",
      "metadata": {
        "id": "NzxB0vk6up8b",
        "colab_type": "text"
      },
      "source": [
        "### 1. How to write the logic you mentioned\n",
        " -- The communication score should be greater than 6"
      ]
    },
    {
      "cell_type": "code",
      "metadata": {
        "id": "o-7keU9uup8c",
        "colab_type": "code",
        "colab": {},
        "outputId": "8d6e6349-468c-4563-9bac-829a055d5f06"
      },
      "source": [
        "placement_data['Communication']>6"
      ],
      "execution_count": 0,
      "outputs": [
        {
          "output_type": "execute_result",
          "data": {
            "text/plain": [
              "0     True\n",
              "1    False\n",
              "2    False\n",
              "3     True\n",
              "4     True\n",
              "Name: Communication, dtype: bool"
            ]
          },
          "metadata": {
            "tags": []
          },
          "execution_count": 5
        }
      ]
    },
    {
      "cell_type": "code",
      "metadata": {
        "id": "Uayrsx-9up8h",
        "colab_type": "code",
        "colab": {}
      },
      "source": [
        "st = [311,6]\n",
        "def placement_prediction(st):\n",
        "    if st[1]>6:\n",
        "        return \"YES\"\n",
        "    else:\n",
        "        return \"NO\""
      ],
      "execution_count": 0,
      "outputs": []
    },
    {
      "cell_type": "code",
      "metadata": {
        "id": "_7gLUE9hup8m",
        "colab_type": "code",
        "colab": {},
        "outputId": "1dfbfcd1-07e3-44b0-9555-4cf8d5133082"
      },
      "source": [
        "placement_prediction(st)"
      ],
      "execution_count": 0,
      "outputs": [
        {
          "output_type": "execute_result",
          "data": {
            "text/plain": [
              "'NO'"
            ]
          },
          "metadata": {
            "tags": []
          },
          "execution_count": 7
        }
      ]
    },
    {
      "cell_type": "code",
      "metadata": {
        "id": "7I_eIfnNup8r",
        "colab_type": "code",
        "colab": {},
        "outputId": "ca2f1906-67e4-47d9-b9f6-9e2292ac25a0"
      },
      "source": [
        "placement_prediction([45,3,6])"
      ],
      "execution_count": 0,
      "outputs": [
        {
          "output_type": "execute_result",
          "data": {
            "text/plain": [
              "'NO'"
            ]
          },
          "metadata": {
            "tags": []
          },
          "execution_count": 8
        }
      ]
    },
    {
      "cell_type": "code",
      "metadata": {
        "id": "0RuJ5tT5up8u",
        "colab_type": "code",
        "colab": {}
      },
      "source": [
        "Numpy array 1000*2"
      ],
      "execution_count": 0,
      "outputs": []
    },
    {
      "cell_type": "markdown",
      "metadata": {
        "id": "TriTUw6vup8y",
        "colab_type": "text"
      },
      "source": [
        "Machine Learning"
      ]
    },
    {
      "cell_type": "markdown",
      "metadata": {
        "id": "Pq1qbsYTup8z",
        "colab_type": "text"
      },
      "source": [
        "### Algorithm\n",
        "- Decision Tree Classifier\n",
        "- Avalible DTC"
      ]
    },
    {
      "cell_type": "markdown",
      "metadata": {
        "id": "EjJEXy1_up8z",
        "colab_type": "text"
      },
      "source": [
        "Desicion Tree Classifier\n",
        "- fit(features,target)/fit(inputs,outputs)\n",
        "  - coomunication\n",
        "  - placed\n",
        "  features -2d array\n",
        "  placed -1d array\n",
        "- predict"
      ]
    },
    {
      "cell_type": "markdown",
      "metadata": {
        "id": "ur9wlKjCup80",
        "colab_type": "text"
      },
      "source": [
        "### Get the communication as 2d Array"
      ]
    },
    {
      "cell_type": "code",
      "metadata": {
        "id": "Z0y8COsUup81",
        "colab_type": "code",
        "colab": {},
        "outputId": "854c0fbb-5918-4df8-a937-ff232f6bd744"
      },
      "source": [
        "placement_data['Communication'].shape"
      ],
      "execution_count": 0,
      "outputs": [
        {
          "output_type": "execute_result",
          "data": {
            "text/plain": [
              "(5,)"
            ]
          },
          "metadata": {
            "tags": []
          },
          "execution_count": 11
        }
      ]
    },
    {
      "cell_type": "code",
      "metadata": {
        "id": "yY9OeYdjup84",
        "colab_type": "code",
        "colab": {},
        "outputId": "249a2781-15bd-4714-8448-96e87b6132f3"
      },
      "source": [
        "placement_data[['Communication','Placed']]"
      ],
      "execution_count": 0,
      "outputs": [
        {
          "output_type": "execute_result",
          "data": {
            "text/html": [
              "<div>\n",
              "<style scoped>\n",
              "    .dataframe tbody tr th:only-of-type {\n",
              "        vertical-align: middle;\n",
              "    }\n",
              "\n",
              "    .dataframe tbody tr th {\n",
              "        vertical-align: top;\n",
              "    }\n",
              "\n",
              "    .dataframe thead th {\n",
              "        text-align: right;\n",
              "    }\n",
              "</style>\n",
              "<table border=\"1\" class=\"dataframe\">\n",
              "  <thead>\n",
              "    <tr style=\"text-align: right;\">\n",
              "      <th></th>\n",
              "      <th>Communication</th>\n",
              "      <th>Placed</th>\n",
              "    </tr>\n",
              "  </thead>\n",
              "  <tbody>\n",
              "    <tr>\n",
              "      <th>0</th>\n",
              "      <td>7</td>\n",
              "      <td>Yes</td>\n",
              "    </tr>\n",
              "    <tr>\n",
              "      <th>1</th>\n",
              "      <td>6</td>\n",
              "      <td>No</td>\n",
              "    </tr>\n",
              "    <tr>\n",
              "      <th>2</th>\n",
              "      <td>5</td>\n",
              "      <td>No</td>\n",
              "    </tr>\n",
              "    <tr>\n",
              "      <th>3</th>\n",
              "      <td>8</td>\n",
              "      <td>Yes</td>\n",
              "    </tr>\n",
              "    <tr>\n",
              "      <th>4</th>\n",
              "      <td>9</td>\n",
              "      <td>Yes</td>\n",
              "    </tr>\n",
              "  </tbody>\n",
              "</table>\n",
              "</div>"
            ],
            "text/plain": [
              "   Communication Placed\n",
              "0              7    Yes\n",
              "1              6     No\n",
              "2              5     No\n",
              "3              8    Yes\n",
              "4              9    Yes"
            ]
          },
          "metadata": {
            "tags": []
          },
          "execution_count": 12
        }
      ]
    },
    {
      "cell_type": "code",
      "metadata": {
        "id": "o0RPNFKfup87",
        "colab_type": "code",
        "colab": {},
        "outputId": "6c14410f-ff8c-469d-91ac-a77312e61f55"
      },
      "source": [
        "placement_data[['Communication']]"
      ],
      "execution_count": 0,
      "outputs": [
        {
          "output_type": "execute_result",
          "data": {
            "text/html": [
              "<div>\n",
              "<style scoped>\n",
              "    .dataframe tbody tr th:only-of-type {\n",
              "        vertical-align: middle;\n",
              "    }\n",
              "\n",
              "    .dataframe tbody tr th {\n",
              "        vertical-align: top;\n",
              "    }\n",
              "\n",
              "    .dataframe thead th {\n",
              "        text-align: right;\n",
              "    }\n",
              "</style>\n",
              "<table border=\"1\" class=\"dataframe\">\n",
              "  <thead>\n",
              "    <tr style=\"text-align: right;\">\n",
              "      <th></th>\n",
              "      <th>Communication</th>\n",
              "    </tr>\n",
              "  </thead>\n",
              "  <tbody>\n",
              "    <tr>\n",
              "      <th>0</th>\n",
              "      <td>7</td>\n",
              "    </tr>\n",
              "    <tr>\n",
              "      <th>1</th>\n",
              "      <td>6</td>\n",
              "    </tr>\n",
              "    <tr>\n",
              "      <th>2</th>\n",
              "      <td>5</td>\n",
              "    </tr>\n",
              "    <tr>\n",
              "      <th>3</th>\n",
              "      <td>8</td>\n",
              "    </tr>\n",
              "    <tr>\n",
              "      <th>4</th>\n",
              "      <td>9</td>\n",
              "    </tr>\n",
              "  </tbody>\n",
              "</table>\n",
              "</div>"
            ],
            "text/plain": [
              "   Communication\n",
              "0              7\n",
              "1              6\n",
              "2              5\n",
              "3              8\n",
              "4              9"
            ]
          },
          "metadata": {
            "tags": []
          },
          "execution_count": 13
        }
      ]
    },
    {
      "cell_type": "code",
      "metadata": {
        "id": "3onDNVmyup8-",
        "colab_type": "code",
        "colab": {},
        "outputId": "6554317c-79e2-4ebd-930b-b83feeb6c87e"
      },
      "source": [
        "import sklearn\n",
        "from sklearn.tree import DecisionTreeClassifier #DesicionTreeClassifier\n",
        "dtc = DecisionTreeClassifier()\n",
        "#Training the model\n",
        "dtc.fit(placement_data[['Communication']],placement_data['Placed'])\n",
        "#After you run above line you will get trained model in dtc\n"
      ],
      "execution_count": 0,
      "outputs": [
        {
          "output_type": "execute_result",
          "data": {
            "text/plain": [
              "DecisionTreeClassifier(ccp_alpha=0.0, class_weight=None, criterion='gini',\n",
              "                       max_depth=None, max_features=None, max_leaf_nodes=None,\n",
              "                       min_impurity_decrease=0.0, min_impurity_split=None,\n",
              "                       min_samples_leaf=1, min_samples_split=2,\n",
              "                       min_weight_fraction_leaf=0.0, presort='deprecated',\n",
              "                       random_state=None, splitter='best')"
            ]
          },
          "metadata": {
            "tags": []
          },
          "execution_count": 17
        }
      ]
    },
    {
      "cell_type": "code",
      "metadata": {
        "id": "jZTxupVPup9C",
        "colab_type": "code",
        "colab": {},
        "outputId": "983f2810-eb9b-4c55-8243-bfb5f63341ef"
      },
      "source": [
        "dtc.predict(placement_data[['Communication']])"
      ],
      "execution_count": 0,
      "outputs": [
        {
          "output_type": "execute_result",
          "data": {
            "text/plain": [
              "array(['Yes', 'No', 'No', 'Yes', 'Yes'], dtype=object)"
            ]
          },
          "metadata": {
            "tags": []
          },
          "execution_count": 18
        }
      ]
    },
    {
      "cell_type": "code",
      "metadata": {
        "id": "nZ002cCjup9F",
        "colab_type": "code",
        "colab": {},
        "outputId": "11cc2dd7-7291-4cac-ffe0-d96af7168fac"
      },
      "source": [
        "placement_data['Placed']"
      ],
      "execution_count": 0,
      "outputs": [
        {
          "output_type": "execute_result",
          "data": {
            "text/plain": [
              "0    Yes\n",
              "1     No\n",
              "2     No\n",
              "3    Yes\n",
              "4    Yes\n",
              "Name: Placed, dtype: object"
            ]
          },
          "metadata": {
            "tags": []
          },
          "execution_count": 19
        }
      ]
    },
    {
      "cell_type": "code",
      "metadata": {
        "id": "bBnRvtnSup9I",
        "colab_type": "code",
        "colab": {},
        "outputId": "e31091af-61cd-4a82-d1ec-0a8b1bc27990"
      },
      "source": [
        "#predict for the unknown students data\n",
        "dtc.predict([[8]])"
      ],
      "execution_count": 0,
      "outputs": [
        {
          "output_type": "execute_result",
          "data": {
            "text/plain": [
              "array(['Yes'], dtype=object)"
            ]
          },
          "metadata": {
            "tags": []
          },
          "execution_count": 20
        }
      ]
    },
    {
      "cell_type": "code",
      "metadata": {
        "id": "A32p5sIsup9L",
        "colab_type": "code",
        "colab": {},
        "outputId": "a0addca2-69af-4792-b74d-228e0d2ce5c7"
      },
      "source": [
        "dtc.predict([[8],[7.5],[3.4]])"
      ],
      "execution_count": 0,
      "outputs": [
        {
          "output_type": "execute_result",
          "data": {
            "text/plain": [
              "array(['Yes', 'Yes', 'No'], dtype=object)"
            ]
          },
          "metadata": {
            "tags": []
          },
          "execution_count": 21
        }
      ]
    },
    {
      "cell_type": "markdown",
      "metadata": {
        "id": "0vyjX6ctup9P",
        "colab_type": "text"
      },
      "source": [
        "### Labeled and Unlabeled data\n",
        "- labeled means alog with placed column\n",
        "- unlabeled without place column"
      ]
    },
    {
      "cell_type": "code",
      "metadata": {
        "id": "7zz6kiopup9Q",
        "colab_type": "code",
        "colab": {},
        "outputId": "bc5d8145-b844-448f-89d6-ec24123f8562"
      },
      "source": [
        "data3 = {\"Student ID\":[416,375,400,211],\n",
        "         \"Internal Marks\":[25,30,18,15],\n",
        "         \"No of Hours Study\":[2,1,2,3],\n",
        "         \"Marks\":[76.5,87,59,53.5]}\n",
        "marks_data2 = pd.DataFrame(data3)\n",
        "marks_data2"
      ],
      "execution_count": 0,
      "outputs": [
        {
          "output_type": "execute_result",
          "data": {
            "text/html": [
              "<div>\n",
              "<style scoped>\n",
              "    .dataframe tbody tr th:only-of-type {\n",
              "        vertical-align: middle;\n",
              "    }\n",
              "\n",
              "    .dataframe tbody tr th {\n",
              "        vertical-align: top;\n",
              "    }\n",
              "\n",
              "    .dataframe thead th {\n",
              "        text-align: right;\n",
              "    }\n",
              "</style>\n",
              "<table border=\"1\" class=\"dataframe\">\n",
              "  <thead>\n",
              "    <tr style=\"text-align: right;\">\n",
              "      <th></th>\n",
              "      <th>Student ID</th>\n",
              "      <th>Internal Marks</th>\n",
              "      <th>No of Hours Study</th>\n",
              "      <th>Marks</th>\n",
              "    </tr>\n",
              "  </thead>\n",
              "  <tbody>\n",
              "    <tr>\n",
              "      <th>0</th>\n",
              "      <td>416</td>\n",
              "      <td>25</td>\n",
              "      <td>2</td>\n",
              "      <td>76.5</td>\n",
              "    </tr>\n",
              "    <tr>\n",
              "      <th>1</th>\n",
              "      <td>375</td>\n",
              "      <td>30</td>\n",
              "      <td>1</td>\n",
              "      <td>87.0</td>\n",
              "    </tr>\n",
              "    <tr>\n",
              "      <th>2</th>\n",
              "      <td>400</td>\n",
              "      <td>18</td>\n",
              "      <td>2</td>\n",
              "      <td>59.0</td>\n",
              "    </tr>\n",
              "    <tr>\n",
              "      <th>3</th>\n",
              "      <td>211</td>\n",
              "      <td>15</td>\n",
              "      <td>3</td>\n",
              "      <td>53.5</td>\n",
              "    </tr>\n",
              "  </tbody>\n",
              "</table>\n",
              "</div>"
            ],
            "text/plain": [
              "   Student ID  Internal Marks  No of Hours Study  Marks\n",
              "0         416              25                  2   76.5\n",
              "1         375              30                  1   87.0\n",
              "2         400              18                  2   59.0\n",
              "3         211              15                  3   53.5"
            ]
          },
          "metadata": {
            "tags": []
          },
          "execution_count": 32
        }
      ]
    },
    {
      "cell_type": "code",
      "metadata": {
        "id": "2ygVZuZeup9V",
        "colab_type": "code",
        "colab": {},
        "outputId": "67d2ed13-5b2a-454f-8086-e2b109581285"
      },
      "source": [
        "from sklearn.linear_model import LinearRegression\n",
        "lr = LinearRegression()\n",
        "#training the model with features\n",
        "lr.fit(marks_data2.iloc[:,1:3],marks_data2['Marks'])\n",
        "#After this cell in variable lr you have trained model"
      ],
      "execution_count": 0,
      "outputs": [
        {
          "output_type": "execute_result",
          "data": {
            "text/plain": [
              "LinearRegression(copy_X=True, fit_intercept=True, n_jobs=None, normalize=False)"
            ]
          },
          "metadata": {
            "tags": []
          },
          "execution_count": 33
        }
      ]
    },
    {
      "cell_type": "markdown",
      "metadata": {
        "id": "cYr1vaXJup9Z",
        "colab_type": "text"
      },
      "source": [
        "### y=m1*x1+m2*x2+c\n",
        "predict m1,m2 and c\n",
        " - y-means\n",
        " - x1-internal marks\n",
        " - x2-no of hours study"
      ]
    },
    {
      "cell_type": "code",
      "metadata": {
        "id": "Fx8ejOuXup9Z",
        "colab_type": "code",
        "colab": {},
        "outputId": "d1e3bebc-f789-4d8e-c893-83cf00f71604"
      },
      "source": [
        "lr.coef_ ###m1 and m2"
      ],
      "execution_count": 0,
      "outputs": [
        {
          "output_type": "execute_result",
          "data": {
            "text/plain": [
              "array([2.5, 2. ])"
            ]
          },
          "metadata": {
            "tags": []
          },
          "execution_count": 34
        }
      ]
    },
    {
      "cell_type": "code",
      "metadata": {
        "id": "0X2a8ONXup9c",
        "colab_type": "code",
        "colab": {},
        "outputId": "cbeac401-80b5-4507-f2b4-7ba6b69b15c0"
      },
      "source": [
        "lr.intercept_ # c"
      ],
      "execution_count": 0,
      "outputs": [
        {
          "output_type": "execute_result",
          "data": {
            "text/plain": [
              "10.000000000000007"
            ]
          },
          "metadata": {
            "tags": []
          },
          "execution_count": 35
        }
      ]
    },
    {
      "cell_type": "code",
      "metadata": {
        "id": "-0OUSt6rup9f",
        "colab_type": "code",
        "colab": {},
        "outputId": "d3c76432-a791-40b5-b3bb-7bd278eeb9d0"
      },
      "source": [
        "lr.predict(marks_data2.iloc[:,1:3])"
      ],
      "execution_count": 0,
      "outputs": [
        {
          "output_type": "execute_result",
          "data": {
            "text/plain": [
              "array([76.5, 87. , 59. , 53.5])"
            ]
          },
          "metadata": {
            "tags": []
          },
          "execution_count": 36
        }
      ]
    },
    {
      "cell_type": "code",
      "metadata": {
        "id": "PC0JTuGkup9j",
        "colab_type": "code",
        "colab": {},
        "outputId": "516d4265-ebd4-415d-f2c7-eedc4c6c5270"
      },
      "source": [
        "marks_data2['Marks']"
      ],
      "execution_count": 0,
      "outputs": [
        {
          "output_type": "execute_result",
          "data": {
            "text/plain": [
              "0    76.5\n",
              "1    87.0\n",
              "2    59.0\n",
              "3    53.5\n",
              "Name: Marks, dtype: float64"
            ]
          },
          "metadata": {
            "tags": []
          },
          "execution_count": 37
        }
      ]
    },
    {
      "cell_type": "code",
      "metadata": {
        "id": "rhGP3sQJup9p",
        "colab_type": "code",
        "colab": {}
      },
      "source": [
        ""
      ],
      "execution_count": 0,
      "outputs": []
    }
  ]
}