{
  "nbformat": 4,
  "nbformat_minor": 0,
  "metadata": {
    "colab": {
      "name": "28-05-2020 Assignment",
      "provenance": [],
      "collapsed_sections": []
    },
    "kernelspec": {
      "name": "python3",
      "display_name": "Python 3"
    }
  },
  "cells": [
    {
      "cell_type": "code",
      "metadata": {
        "id": "yn_q3c9K90P3",
        "colab_type": "code",
        "colab": {
          "base_uri": "https://localhost:8080/",
          "height": 84
        },
        "outputId": "99618f9f-2c94-4ed9-b19c-a8aa9b52968a"
      },
      "source": [
        "#1)Accept a string from the user and count no.of vowels,consonants and special characters\n",
        "\n",
        "str1 = input(\"Please Enter Your Own String : \")\n",
        "vowels = 0\n",
        "consonants = 0\n",
        "special = 0\n",
        "\n",
        "for i in str1:\n",
        "    if ( (i >= 'a' and i <= 'z') or (i >= 'A' and i <= 'Z') ):\n",
        "        if(i == 'a' or i == 'e' or i == 'i' or i == 'o' or i == 'u'or i == 'A' or i == 'E' or i == 'I' or i == 'O' or i == 'U'):\n",
        "            vowels = vowels + 1\n",
        "        else:\n",
        "            consonants = consonants + 1\n",
        "    else:\n",
        "        special = special + 1\n",
        " \n",
        "print(\"Total Number of Vowels in this String = \", vowels)\n",
        "print(\"Total Number of Consonants in this String = \", consonants)\n",
        "print(\"Total Number of special in this String = \", special)\n"
      ],
      "execution_count": 1,
      "outputs": [
        {
          "output_type": "stream",
          "text": [
            "Please Enter Your Own String : Janjam Gayathri\n",
            "Total Number of Vowels in this String =  5\n",
            "Total Number of Consonants in this String =  9\n",
            "Total Number of special in this String =  1\n"
          ],
          "name": "stdout"
        }
      ]
    },
    {
      "cell_type": "code",
      "metadata": {
        "id": "t6wB-KIc-OZy",
        "colab_type": "code",
        "colab": {
          "base_uri": "https://localhost:8080/",
          "height": 34
        },
        "outputId": "f00dc895-d933-4b01-8a2b-d074aee0671c"
      },
      "source": [
        "#2)count the no.of pairs of a in the given string\n",
        "\n",
        "str=\"abbaaccbbaaa\"\n",
        "print(str.count(\"aa\"))"
      ],
      "execution_count": 2,
      "outputs": [
        {
          "output_type": "stream",
          "text": [
            "2\n"
          ],
          "name": "stdout"
        }
      ]
    },
    {
      "cell_type": "code",
      "metadata": {
        "id": "C4CZfnJP-4c_",
        "colab_type": "code",
        "colab": {
          "base_uri": "https://localhost:8080/",
          "height": 50
        },
        "outputId": "9006648b-255a-4a5e-8b74-b5b061059770"
      },
      "source": [
        "#3)\n",
        "\n",
        "str=input(\"enter\")\n",
        "print(str.count(\")\"))"
      ],
      "execution_count": 4,
      "outputs": [
        {
          "output_type": "stream",
          "text": [
            "enter((())())\n",
            "4\n"
          ],
          "name": "stdout"
        }
      ]
    },
    {
      "cell_type": "code",
      "metadata": {
        "id": "G2RmZaU_-4oZ",
        "colab_type": "code",
        "colab": {
          "base_uri": "https://localhost:8080/",
          "height": 67
        },
        "outputId": "6378b035-8075-4ea8-b6f5-bcfe70feec5b"
      },
      "source": [
        "#4)Read the input as two limits and Print the output as Palindrome count between the two limits\n",
        "\n",
        "count = 0\n",
        "n = int(input(\"enter a value n:\"))\n",
        "m = int(input(\"enter a value m:\"))\n",
        "for i in range(n,m):\n",
        "    if str(i) == str(i)[::-1]:\n",
        "        count += 1\n",
        "print(count)"
      ],
      "execution_count": 6,
      "outputs": [
        {
          "output_type": "stream",
          "text": [
            "enter a value n:23\n",
            "enter a value m:22\n",
            "0\n"
          ],
          "name": "stdout"
        }
      ]
    },
    {
      "cell_type": "code",
      "metadata": {
        "id": "vhG-7XVl_xh8",
        "colab_type": "code",
        "colab": {}
      },
      "source": [
        "#5)Accept a number as an input and check whether the given number is palindrome or not\n",
        "##if it is a palindrome number print the number on the screen\n",
        "\n",
        "n = int(input(\"enter a number\"))\n",
        "if str(n)==str(n)[::-1]:\n",
        "    print(\"the given string is palindrome\")\n",
        "else:\n",
        "    print(\"The given string is not palindrome\")"
      ],
      "execution_count": 0,
      "outputs": []
    },
    {
      "cell_type": "code",
      "metadata": {
        "id": "Tk-ly1vH_xtR",
        "colab_type": "code",
        "colab": {}
      },
      "source": [
        "##if it is not a palindrome number reverse that number and add it to previous number repeat this until will get a palindrome number and print that palindrome number on the screen\n",
        "\n",
        "def rev_number(n):\n",
        "  s = 0\n",
        "  while True:\n",
        "    k = str(n)\n",
        "    if k == k[::-1]:\n",
        "      break\n",
        "    else:\n",
        "      m = int(k[::-1])\n",
        "      n += m\n",
        "      s += 1\n",
        "  return n \n",
        "print(rev_number(127))"
      ],
      "execution_count": 0,
      "outputs": []
    },
    {
      "cell_type": "code",
      "metadata": {
        "id": "DIqZgA2q_xxX",
        "colab_type": "code",
        "colab": {}
      },
      "source": [
        "#6)\n",
        "\n",
        "s=str(input('enter string'))\n",
        "vowel=['a','e','i','o','u']\n",
        "for i in s:\n",
        "    if i in vowel:\n",
        "        print(chr(ord(i)+1),end='')\n",
        "    elif (ord(i)>65 and ord(i)<69) or(ord(i)>97 and ord(i)<101):\n",
        "        print('e',end='')\n",
        "    elif (ord(i)>69 and ord(i)<73) or(ord(i)>101 and ord(i)<105):\n",
        "        print('i',end='')\n",
        "    elif (ord(i)>73 and ord(i)<79) or(ord(i)>105 and ord(i)<111):\n",
        "        print('o',end='')    \n",
        "    elif (ord(i)>79 and ord(i)<85) or(ord(i)>111 and ord(i)<117):\n",
        "        print('u',end='')\n",
        "    elif (ord(i)>85 and ord(i)<90) or(odr(i)>117 and ord(i)<122):\n",
        "        print('a',end='')  "
      ],
      "execution_count": 0,
      "outputs": []
    },
    {
      "cell_type": "code",
      "metadata": {
        "id": "HFiWepzE_x2p",
        "colab_type": "code",
        "colab": {
          "base_uri": "https://localhost:8080/",
          "height": 34
        },
        "outputId": "d7c9dd6e-8ef0-4544-d9fc-5c7655d3f051"
      },
      "source": [
        "#7)Accept input as a string and display sum of digits as the output\n",
        "\n",
        "def sum_digits_string(str1):\n",
        "    sum_digit = 0\n",
        "    for x in str1:\n",
        "        if x.isdigit() == True:\n",
        "            z = int(x)\n",
        "            sum_digit = sum_digit + z\n",
        "\n",
        "    return sum_digit\n",
        "     \n",
        "print(sum_digits_string(\"Appli123cation456 \"))"
      ],
      "execution_count": 24,
      "outputs": [
        {
          "output_type": "stream",
          "text": [
            "21\n"
          ],
          "name": "stdout"
        }
      ]
    },
    {
      "cell_type": "code",
      "metadata": {
        "id": "1DD3SHmQ_x9i",
        "colab_type": "code",
        "colab": {
          "base_uri": "https://localhost:8080/",
          "height": 50
        },
        "outputId": "2867c8a5-099e-44bb-9bbf-69bf2eb7703a"
      },
      "source": [
        "#8)Accept input as a string and display sum of digits as the output\n",
        "\n",
        "score = float(input(\"Enter score between 0.0 and 1.0: \"))\n",
        "if score>1.0 or score<0.0 :\n",
        "\tprint(error)\n",
        "elif score>=0.9 :\n",
        "  \tprint('A')\n",
        "elif score>=0.8 :\n",
        "    print('B')\n",
        "elif score>=0.7 :\n",
        "    print('C')\n",
        "elif score>=0.6 :\n",
        "    print('D')\n",
        "else :\n",
        "    print('F')"
      ],
      "execution_count": 25,
      "outputs": [
        {
          "output_type": "stream",
          "text": [
            "Enter score between 0.0 and 1.0: 0.5\n",
            "F\n"
          ],
          "name": "stdout"
        }
      ]
    },
    {
      "cell_type": "code",
      "metadata": {
        "id": "I6MBJvJZCnIj",
        "colab_type": "code",
        "colab": {
          "base_uri": "https://localhost:8080/",
          "height": 874
        },
        "outputId": "63ec6f6c-e469-47f7-e2b6-94cd81cf888e"
      },
      "source": [
        "#9)Write a Python program which iterates the integers from 1 to 50. For multiples of three print \"Fizz\" instead of the number and for the multiples of five print \"Buzz\". For numbers which are multiples of both three and five print \"FizzBuzz\"\n",
        "\n",
        "for fizzbuzz in range(51):\n",
        "    if fizzbuzz % 3 == 0 and fizzbuzz % 5 == 0:\n",
        "        print(\"fizzbuzz\")\n",
        "        continue\n",
        "    elif fizzbuzz % 3 == 0:\n",
        "        print(\"fizz\")\n",
        "        continue\n",
        "    elif fizzbuzz % 5 == 0:\n",
        "        print(\"buzz\")\n",
        "        continue\n",
        "    print(fizzbuzz)"
      ],
      "execution_count": 26,
      "outputs": [
        {
          "output_type": "stream",
          "text": [
            "fizzbuzz\n",
            "1\n",
            "2\n",
            "fizz\n",
            "4\n",
            "buzz\n",
            "fizz\n",
            "7\n",
            "8\n",
            "fizz\n",
            "buzz\n",
            "11\n",
            "fizz\n",
            "13\n",
            "14\n",
            "fizzbuzz\n",
            "16\n",
            "17\n",
            "fizz\n",
            "19\n",
            "buzz\n",
            "fizz\n",
            "22\n",
            "23\n",
            "fizz\n",
            "buzz\n",
            "26\n",
            "fizz\n",
            "28\n",
            "29\n",
            "fizzbuzz\n",
            "31\n",
            "32\n",
            "fizz\n",
            "34\n",
            "buzz\n",
            "fizz\n",
            "37\n",
            "38\n",
            "fizz\n",
            "buzz\n",
            "41\n",
            "fizz\n",
            "43\n",
            "44\n",
            "fizzbuzz\n",
            "46\n",
            "47\n",
            "fizz\n",
            "49\n",
            "buzz\n"
          ],
          "name": "stdout"
        }
      ]
    },
    {
      "cell_type": "code",
      "metadata": {
        "id": "B_NJvwazCnR7",
        "colab_type": "code",
        "colab": {
          "base_uri": "https://localhost:8080/",
          "height": 84
        },
        "outputId": "a65532e5-843c-4308-969f-e61abafc3df0"
      },
      "source": [
        "#10)Write a Python program to find the median of three values.\n",
        "\n",
        "a = float(input(\"Input first number: \"))\n",
        "b = float(input(\"Input second number: \"))\n",
        "c = float(input(\"Input third number: \"))\n",
        "if a > b:\n",
        "    if a < c:\n",
        "        median = a\n",
        "    elif b > c:\n",
        "        median = b\n",
        "    else:\n",
        "        median = c\n",
        "else:\n",
        "    if a > c:\n",
        "        median = a\n",
        "    elif b < c:\n",
        "        median = b\n",
        "    else:\n",
        "        median = c\n",
        "\n",
        "print(\"The median is\", median)"
      ],
      "execution_count": 29,
      "outputs": [
        {
          "output_type": "stream",
          "text": [
            "Input first number: 12\n",
            "Input second number: 18\n",
            "Input third number: 27\n",
            "The median is 18.0\n"
          ],
          "name": "stdout"
        }
      ]
    }
  ]
}