{
  "nbformat": 4,
  "nbformat_minor": 0,
  "metadata": {
    "colab": {
      "name": "29-05-2020",
      "provenance": [],
      "collapsed_sections": []
    },
    "kernelspec": {
      "name": "python3",
      "display_name": "Python 3"
    }
  },
  "cells": [
    {
      "cell_type": "code",
      "metadata": {
        "id": "w8Z_HejsHrJM",
        "colab_type": "code",
        "colab": {
          "base_uri": "https://localhost:8080/",
          "height": 84
        },
        "outputId": "07502d1e-01ef-44b2-d375-1b62fbb38ad2"
      },
      "source": [
        "#loop control statements:break,continue\n",
        "for i in range(1,11):\n",
        "    if i%5==0:\n",
        "      break\n",
        "    else:\n",
        "      print(i)"
      ],
      "execution_count": 1,
      "outputs": [
        {
          "output_type": "stream",
          "text": [
            "1\n",
            "2\n",
            "3\n",
            "4\n"
          ],
          "name": "stdout"
        }
      ]
    },
    {
      "cell_type": "code",
      "metadata": {
        "id": "1e-D-aV_H5R6",
        "colab_type": "code",
        "colab": {
          "base_uri": "https://localhost:8080/",
          "height": 151
        },
        "outputId": "6c557fc1-db5e-4774-98d4-630c3af324ea"
      },
      "source": [
        "for i in range(1,11):\n",
        "    if i%5==0:\n",
        "      continue\n",
        "    else:\n",
        "      print(i)"
      ],
      "execution_count": 2,
      "outputs": [
        {
          "output_type": "stream",
          "text": [
            "1\n",
            "2\n",
            "3\n",
            "4\n",
            "6\n",
            "7\n",
            "8\n",
            "9\n"
          ],
          "name": "stdout"
        }
      ]
    },
    {
      "cell_type": "code",
      "metadata": {
        "id": "aboXm5cLH5Vc",
        "colab_type": "code",
        "colab": {
          "base_uri": "https://localhost:8080/",
          "height": 67
        },
        "outputId": "8e511bc3-4566-49d1-b2d0-691f54d7b51e"
      },
      "source": [
        "#username:python\n",
        "#password:abc123\n",
        "while True:\n",
        "  user=input(\"enter your name:\")\n",
        "  if user==\"python\":\n",
        "    pwd=input(\"enter your password:\")\n",
        "    if pwd==\"abc123\":\n",
        "      print(\"login sucess!!\")\n",
        "      break\n",
        "  else:\n",
        "    continue"
      ],
      "execution_count": 5,
      "outputs": [
        {
          "output_type": "stream",
          "text": [
            "enter your name:python\n",
            "enter your password:abc123\n",
            "login sucess!!\n"
          ],
          "name": "stdout"
        }
      ]
    },
    {
      "cell_type": "code",
      "metadata": {
        "id": "d4U41SQiH5Zh",
        "colab_type": "code",
        "colab": {}
      },
      "source": [
        "#pass\n",
        "if 12<34:\n",
        "  pass\n",
        "else:\n",
        "  print(\"else\")"
      ],
      "execution_count": 0,
      "outputs": []
    },
    {
      "cell_type": "markdown",
      "metadata": {
        "id": "bUlbXK6KImqg",
        "colab_type": "text"
      },
      "source": [
        "#Function\n",
        "Block of statements\n",
        "\n",
        "1.predefined(which are already)\n",
        "\n",
        "len(),print(),input(),min(),max()\n",
        "\n",
        "2.user defined(custom function)\n",
        "\n",
        "Syntax\n",
        "\n",
        "def function_name(parameter list):\n",
        "\n",
        "  statements\n",
        "\n",
        "  return"
      ]
    },
    {
      "cell_type": "code",
      "metadata": {
        "id": "9eO0xMW0H5gW",
        "colab_type": "code",
        "colab": {
          "base_uri": "https://localhost:8080/",
          "height": 34
        },
        "outputId": "4623b60e-d706-4e34-b9da-bcb5277f2815"
      },
      "source": [
        "def name(username):#function def\n",
        "    print(\"hello\",username)\n",
        "name(\"xyz\")"
      ],
      "execution_count": 8,
      "outputs": [
        {
          "output_type": "stream",
          "text": [
            "hello xyz\n"
          ],
          "name": "stdout"
        }
      ]
    },
    {
      "cell_type": "code",
      "metadata": {
        "id": "xEvnR7_aH5jY",
        "colab_type": "code",
        "colab": {
          "base_uri": "https://localhost:8080/",
          "height": 67
        },
        "outputId": "6de705b2-1420-4a2e-958d-f6f5589e9f03"
      },
      "source": [
        "def addition(a,b):\n",
        "    return a+b,a-b,a*b,a/b\n",
        "print(addition(10,20))\n",
        "print(addition(100,200))\n",
        "print(addition(110,220))"
      ],
      "execution_count": 9,
      "outputs": [
        {
          "output_type": "stream",
          "text": [
            "(30, -10, 200, 0.5)\n",
            "(300, -100, 20000, 0.5)\n",
            "(330, -110, 24200, 0.5)\n"
          ],
          "name": "stdout"
        }
      ]
    },
    {
      "cell_type": "code",
      "metadata": {
        "id": "iTx6MdL1H5mj",
        "colab_type": "code",
        "colab": {
          "base_uri": "https://localhost:8080/",
          "height": 34
        },
        "outputId": "cd09ad6c-c0b0-4a8a-f278-68919af93438"
      },
      "source": [
        "def arithmetic(a,b):\n",
        "    return a+b,a-b,a*b,a/b\n",
        "\n",
        "add,sub,mul,div=arithmetic(10,20)\n",
        "print(sub)"
      ],
      "execution_count": 10,
      "outputs": [
        {
          "output_type": "stream",
          "text": [
            "-10\n"
          ],
          "name": "stdout"
        }
      ]
    },
    {
      "cell_type": "markdown",
      "metadata": {
        "id": "7QFJ0TiSJZBG",
        "colab_type": "text"
      },
      "source": [
        "#Different types of arguments\n",
        "\n",
        "1.Required positional value\n",
        "\n",
        "2.Default\n",
        "\n",
        "3.keyword\n",
        "\n",
        "4.variable length"
      ]
    },
    {
      "cell_type": "code",
      "metadata": {
        "id": "HVY-muLgH5s_",
        "colab_type": "code",
        "colab": {
          "base_uri": "https://localhost:8080/",
          "height": 34
        },
        "outputId": "aa748a1d-6c66-4e0f-c17c-27230ec905f5"
      },
      "source": [
        "def add(a,b):\n",
        "    return(a+b)\n",
        "print(add(10,20))"
      ],
      "execution_count": 11,
      "outputs": [
        {
          "output_type": "stream",
          "text": [
            "30\n"
          ],
          "name": "stdout"
        }
      ]
    },
    {
      "cell_type": "code",
      "metadata": {
        "id": "Vu_DWKGAH5qJ",
        "colab_type": "code",
        "colab": {
          "base_uri": "https://localhost:8080/",
          "height": 50
        },
        "outputId": "fdcc2ee7-4689-418c-c691-05c35e55e6e6"
      },
      "source": [
        "def add(a,b=100):\n",
        "    return a+b\n",
        "print(add(100))\n",
        "print(add(200,200))"
      ],
      "execution_count": 12,
      "outputs": [
        {
          "output_type": "stream",
          "text": [
            "200\n",
            "400\n"
          ],
          "name": "stdout"
        }
      ]
    },
    {
      "cell_type": "code",
      "metadata": {
        "id": "ahDmGASCJ6Er",
        "colab_type": "code",
        "colab": {
          "base_uri": "https://localhost:8080/",
          "height": 67
        },
        "outputId": "3f0a740d-e528-4425-e260-ac7291768cbd"
      },
      "source": [
        "#keyword agruments\n",
        "def add(a,b):\n",
        "    print(\"a value:\",a)\n",
        "    print(\"b value:\",b)\n",
        "    return(a+b)\n",
        "add(b=10,a=20)"
      ],
      "execution_count": 13,
      "outputs": [
        {
          "output_type": "stream",
          "text": [
            "a value: 20\n",
            "b value: 10\n"
          ],
          "name": "stdout"
        },
        {
          "output_type": "execute_result",
          "data": {
            "text/plain": [
              "30"
            ]
          },
          "metadata": {
            "tags": []
          },
          "execution_count": 13
        }
      ]
    },
    {
      "cell_type": "code",
      "metadata": {
        "id": "b6hKVMYZJ6IK",
        "colab_type": "code",
        "colab": {
          "base_uri": "https://localhost:8080/",
          "height": 67
        },
        "outputId": "99d0f4f4-2126-49a3-e757-955b16251773"
      },
      "source": [
        "def add(*a):\n",
        "    return sum(a)\n",
        "print(add(10,20))\n",
        "print(add(10,20,30))\n",
        "print(add(10,20,30,40))"
      ],
      "execution_count": 14,
      "outputs": [
        {
          "output_type": "stream",
          "text": [
            "30\n",
            "60\n",
            "100\n"
          ],
          "name": "stdout"
        }
      ]
    },
    {
      "cell_type": "code",
      "metadata": {
        "id": "y3msDSmpJ6Oi",
        "colab_type": "code",
        "colab": {
          "base_uri": "https://localhost:8080/",
          "height": 67
        },
        "outputId": "de2606df-4ff2-4fc2-cc95-86b759d0016a"
      },
      "source": [
        "def add(*a):\n",
        "    m=1\n",
        "    for i in a:\n",
        "      m=m*i\n",
        "    return m\n",
        "print(add(10,20))\n",
        "print(add(10,20,30))\n",
        "print(add(10,20,30,40))"
      ],
      "execution_count": 15,
      "outputs": [
        {
          "output_type": "stream",
          "text": [
            "200\n",
            "6000\n",
            "240000\n"
          ],
          "name": "stdout"
        }
      ]
    },
    {
      "cell_type": "code",
      "metadata": {
        "id": "VcXWDhzpJ6Rs",
        "colab_type": "code",
        "colab": {
          "base_uri": "https://localhost:8080/",
          "height": 50
        },
        "outputId": "89467c7c-f587-4386-fe7c-67223f54eabf"
      },
      "source": [
        "#Nested functions:\n",
        "def square(a):\n",
        "    return a*a\n",
        "def cube(x):\n",
        "    return square(x)*x\n",
        "print(square(10))\n",
        "print(cube(10))"
      ],
      "execution_count": 17,
      "outputs": [
        {
          "output_type": "stream",
          "text": [
            "100\n",
            "1000\n"
          ],
          "name": "stdout"
        }
      ]
    },
    {
      "cell_type": "markdown",
      "metadata": {
        "id": "l469iX0DKY9Q",
        "colab_type": "text"
      },
      "source": [
        "#Recursive function:\n",
        "\n",
        "1.factorial of number\n",
        "\n",
        "2.fibanocci series"
      ]
    },
    {
      "cell_type": "markdown",
      "metadata": {
        "id": "Rzyelhh0Klee",
        "colab_type": "text"
      },
      "source": [
        "#Data Structures\n",
        "\n",
        "1.list:\n",
        "\n",
        "[] elements seperated by ,\n",
        "\n",
        "indexed\n",
        "\n",
        "ordered\n",
        "\n",
        "Duplicate values\n",
        "\n",
        "Mutable\n",
        "\n",
        "anytype of values"
      ]
    },
    {
      "cell_type": "code",
      "metadata": {
        "id": "ynKRTF6QJ6Uz",
        "colab_type": "code",
        "colab": {
          "base_uri": "https://localhost:8080/",
          "height": 34
        },
        "outputId": "47c28176-8e94-4200-b2b2-aa827efa0698"
      },
      "source": [
        "list1=[12,23,45,True,\"abc\",12]\n",
        "print(type(list1))"
      ],
      "execution_count": 18,
      "outputs": [
        {
          "output_type": "stream",
          "text": [
            "<class 'list'>\n"
          ],
          "name": "stdout"
        }
      ]
    },
    {
      "cell_type": "code",
      "metadata": {
        "id": "FtcapTZYJ6YS",
        "colab_type": "code",
        "colab": {
          "base_uri": "https://localhost:8080/",
          "height": 118
        },
        "outputId": "e9937af2-26cc-4ba7-e358-d2cf09c6fc76"
      },
      "source": [
        "#operators supported by list:+,*,[],[:],in,not in\n",
        "list1=[1,2,3]\n",
        "list2=[10,20,30]\n",
        "print(list1+list2)\n",
        "print(list1*3)\n",
        "print(list1[1])\n",
        "print(list1[1:3])\n",
        "print(2 in list1)\n",
        "print(200 in list1)"
      ],
      "execution_count": 19,
      "outputs": [
        {
          "output_type": "stream",
          "text": [
            "[1, 2, 3, 10, 20, 30]\n",
            "[1, 2, 3, 1, 2, 3, 1, 2, 3]\n",
            "2\n",
            "[2, 3]\n",
            "True\n",
            "False\n"
          ],
          "name": "stdout"
        }
      ]
    },
    {
      "cell_type": "code",
      "metadata": {
        "id": "bipiFBQuJ6fn",
        "colab_type": "code",
        "colab": {
          "base_uri": "https://localhost:8080/",
          "height": 101
        },
        "outputId": "6128bcbf-3dd0-4ee9-b781-32dd5fc6b52d"
      },
      "source": [
        "list1=[1,2,3,40]\n",
        "s1=\"python\"\n",
        "print(len(list1))\n",
        "print(min(list1))\n",
        "print(max(list1))\n",
        "list2=list(s1)\n",
        "print(list2)\n",
        "list1[-1]=100\n",
        "print(list1)"
      ],
      "execution_count": 20,
      "outputs": [
        {
          "output_type": "stream",
          "text": [
            "4\n",
            "1\n",
            "40\n",
            "['p', 'y', 't', 'h', 'o', 'n']\n",
            "[1, 2, 3, 100]\n"
          ],
          "name": "stdout"
        }
      ]
    }
  ]
}