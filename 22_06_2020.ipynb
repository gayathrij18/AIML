{
  "nbformat": 4,
  "nbformat_minor": 0,
  "metadata": {
    "colab": {
      "name": "22-06-2020",
      "provenance": []
    },
    "kernelspec": {
      "name": "python3",
      "display_name": "Python 3"
    }
  },
  "cells": [
    {
      "cell_type": "code",
      "metadata": {
        "id": "7Disltli1msO",
        "colab_type": "code",
        "colab": {}
      },
      "source": [
        ""
      ],
      "execution_count": null,
      "outputs": []
    },
    {
      "cell_type": "markdown",
      "metadata": {
        "id": "JmNhvbv21rFy",
        "colab_type": "text"
      },
      "source": [
        "Reference link:https://docs.google.com/document/d/11VKI-m6VEEKY9Gz3OJz0WPWsF4XOzHCp9Cn159QllqM/edit"
      ]
    },
    {
      "cell_type": "code",
      "metadata": {
        "id": "HPUlEExQ1u06",
        "colab_type": "code",
        "colab": {}
      },
      "source": [
        ""
      ],
      "execution_count": null,
      "outputs": []
    }
  ]
}