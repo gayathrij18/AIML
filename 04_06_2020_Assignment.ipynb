{
  "nbformat": 4,
  "nbformat_minor": 0,
  "metadata": {
    "colab": {
      "name": "04-06-2020 Assignment",
      "provenance": [],
      "collapsed_sections": []
    },
    "kernelspec": {
      "name": "python3",
      "display_name": "Python 3"
    }
  },
  "cells": [
    {
      "cell_type": "code",
      "metadata": {
        "id": "jAUMhl9zOLC0",
        "colab_type": "code",
        "colab": {
          "base_uri": "https://localhost:8080/",
          "height": 84
        },
        "outputId": "2208e610-f2e1-4b22-b639-30e9bc619685"
      },
      "source": [
        "#Answer1\n",
        "import numpy as npy\n",
        "s = npy.arange(9, 19)\n",
        "print(\"Original array:\")\n",
        "print(s)\n",
        "print(\"Reverse array:\")\n",
        "s = s[::-1]\n",
        "print(s)"
      ],
      "execution_count": 2,
      "outputs": [
        {
          "output_type": "stream",
          "text": [
            "Original array:\n",
            "[ 9 10 11 12 13 14 15 16 17 18]\n",
            "Reverse array:\n",
            "[18 17 16 15 14 13 12 11 10  9]\n"
          ],
          "name": "stdout"
        }
      ]
    },
    {
      "cell_type": "code",
      "metadata": {
        "id": "cxykwwDHOyWG",
        "colab_type": "code",
        "colab": {
          "base_uri": "https://localhost:8080/",
          "height": 252
        },
        "outputId": "63fca0c1-3bb4-4164-9c30-103186b8aeb2"
      },
      "source": [
        "#Answer2\n",
        "import numpy as npy\n",
        "s = npy.ones((6,6))\n",
        "print(\"Original array:\")\n",
        "print(s)\n",
        "print(\"1 on the border and 0 inside in the array\")\n",
        "s[1:-1,1:-1] = 0\n",
        "print(s)"
      ],
      "execution_count": 3,
      "outputs": [
        {
          "output_type": "stream",
          "text": [
            "Original array:\n",
            "[[1. 1. 1. 1. 1. 1.]\n",
            " [1. 1. 1. 1. 1. 1.]\n",
            " [1. 1. 1. 1. 1. 1.]\n",
            " [1. 1. 1. 1. 1. 1.]\n",
            " [1. 1. 1. 1. 1. 1.]\n",
            " [1. 1. 1. 1. 1. 1.]]\n",
            "1 on the border and 0 inside in the array\n",
            "[[1. 1. 1. 1. 1. 1.]\n",
            " [1. 0. 0. 0. 0. 1.]\n",
            " [1. 0. 0. 0. 0. 1.]\n",
            " [1. 0. 0. 0. 0. 1.]\n",
            " [1. 0. 0. 0. 0. 1.]\n",
            " [1. 1. 1. 1. 1. 1.]]\n"
          ],
          "name": "stdout"
        }
      ]
    },
    {
      "cell_type": "code",
      "metadata": {
        "id": "DykPtjNzOyfS",
        "colab_type": "code",
        "colab": {
          "base_uri": "https://localhost:8080/",
          "height": 84
        },
        "outputId": "a631792a-5345-4d0e-9701-3831df37ab52"
      },
      "source": [
        "#Answer3\n",
        "import numpy as npy\n",
        "array1 = npy.array([8, 10, 18, 23, 31])\n",
        "print(\"Array1: \",array1)\n",
        "array2 = [8, 31]\n",
        "print(\"Array2: \",array2)\n",
        "print(\"Compare each element of array1 and array2\")\n",
        "print(npy.in1d(array1, array2))"
      ],
      "execution_count": 4,
      "outputs": [
        {
          "output_type": "stream",
          "text": [
            "Array1:  [ 8 10 18 23 31]\n",
            "Array2:  [8, 31]\n",
            "Compare each element of array1 and array2\n",
            "[ True False False False  True]\n"
          ],
          "name": "stdout"
        }
      ]
    },
    {
      "cell_type": "code",
      "metadata": {
        "id": "GMT8DWrCOyjG",
        "colab_type": "code",
        "colab": {
          "base_uri": "https://localhost:8080/",
          "height": 84
        },
        "outputId": "18260772-ba86-4740-856c-d987f41a13c7"
      },
      "source": [
        "#Answer4\n",
        "import numpy as npy\n",
        "array1 = npy.array([10, 18, 23, 38, 49, 60])\n",
        "print(\"Array1: \",array1)\n",
        "array2 = [10, 23, 31, 42, 49]\n",
        "print(\"Array2: \",array2)\n",
        "print(\"Unique values in array1 that are not in array2:\")\n",
        "print(npy.setdiff1d(array1, array2))"
      ],
      "execution_count": 5,
      "outputs": [
        {
          "output_type": "stream",
          "text": [
            "Array1:  [10 18 23 38 49 60]\n",
            "Array2:  [10, 23, 31, 42, 49]\n",
            "Unique values in array1 that are not in array2:\n",
            "[18 38 60]\n"
          ],
          "name": "stdout"
        }
      ]
    },
    {
      "cell_type": "code",
      "metadata": {
        "id": "kVUPTiB3Oyyh",
        "colab_type": "code",
        "colab": {
          "base_uri": "https://localhost:8080/",
          "height": 84
        },
        "outputId": "2af8451f-21e2-4850-a664-b15e7f1af8c5"
      },
      "source": [
        "#Answer5\n",
        "import numpy as npy\n",
        "s =  npy.diagflat([4, 5, 6, 8])\n",
        "print(s)"
      ],
      "execution_count": 6,
      "outputs": [
        {
          "output_type": "stream",
          "text": [
            "[[4 0 0 0]\n",
            " [0 5 0 0]\n",
            " [0 0 6 0]\n",
            " [0 0 0 8]]\n"
          ],
          "name": "stdout"
        }
      ]
    }
  ]
}